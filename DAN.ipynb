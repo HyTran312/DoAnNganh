{
  "nbformat": 4,
  "nbformat_minor": 0,
  "metadata": {
    "colab": {
      "provenance": [],
      "mount_file_id": "17_olHWJSe1L7Qb0oaEFFqzLPOBqv24Rs",
      "authorship_tag": "ABX9TyN8+9eKt1JPVyXuHYYqD2FT",
      "include_colab_link": true
    },
    "kernelspec": {
      "name": "python3",
      "display_name": "Python 3"
    },
    "language_info": {
      "name": "python"
    }
  },
  "cells": [
    {
      "cell_type": "markdown",
      "metadata": {
        "id": "view-in-github",
        "colab_type": "text"
      },
      "source": [
        "<a href=\"https://colab.research.google.com/github/HyTran312/DoAnNganh/blob/main/DAN.ipynb\" target=\"_parent\"><img src=\"https://colab.research.google.com/assets/colab-badge.svg\" alt=\"Open In Colab\"/></a>"
      ]
    },
    {
      "cell_type": "code",
      "source": [
        "from google.colab import drive\n",
        "drive.mount('/content/drive')"
      ],
      "metadata": {
        "id": "unjBDrxPm5hN",
        "colab": {
          "base_uri": "https://localhost:8080/"
        },
        "outputId": "5e0f18a4-c1e1-4f80-e106-593a2798529f"
      },
      "execution_count": null,
      "outputs": [
        {
          "output_type": "stream",
          "name": "stdout",
          "text": [
            "Drive already mounted at /content/drive; to attempt to forcibly remount, call drive.mount(\"/content/drive\", force_remount=True).\n"
          ]
        }
      ]
    },
    {
      "cell_type": "code",
      "execution_count": null,
      "metadata": {
        "colab": {
          "base_uri": "https://localhost:8080/",
          "height": 805
        },
        "id": "ykXGHUrwkqls",
        "outputId": "47af0d03-729e-4a32-b23f-85e27c63bd61"
      },
      "outputs": [
        {
          "output_type": "stream",
          "name": "stderr",
          "text": [
            "<ipython-input-2-34acf46e7e07>:6: SettingWithCopyWarning: \n",
            "A value is trying to be set on a copy of a slice from a DataFrame\n",
            "\n",
            "See the caveats in the documentation: https://pandas.pydata.org/pandas-docs/stable/user_guide/indexing.html#returning-a-view-versus-a-copy\n",
            "  new_file1.drop([\"Chỉ số AQI\", \"Vị trí\", \"Url\", \"Mã trạm\", \"Chất ô nhiễm chủ đạo\", \"Trạng thái cảnh báo\", \"Mức độ cảnh báo\", \"Múi giờ\"], axis=1, inplace=True)\n",
            "<ipython-input-2-34acf46e7e07>:7: SettingWithCopyWarning: \n",
            "A value is trying to be set on a copy of a slice from a DataFrame\n",
            "\n",
            "See the caveats in the documentation: https://pandas.pydata.org/pandas-docs/stable/user_guide/indexing.html#returning-a-view-versus-a-copy\n",
            "  new_file1.replace('-', np.nan, inplace=True)\n",
            "<ipython-input-2-34acf46e7e07>:8: SettingWithCopyWarning: \n",
            "A value is trying to be set on a copy of a slice from a DataFrame\n",
            "\n",
            "See the caveats in the documentation: https://pandas.pydata.org/pandas-docs/stable/user_guide/indexing.html#returning-a-view-versus-a-copy\n",
            "  new_file1.dropna(axis=1, how='any', inplace=True)\n",
            "<ipython-input-2-34acf46e7e07>:9: SettingWithCopyWarning: \n",
            "A value is trying to be set on a copy of a slice from a DataFrame.\n",
            "Try using .loc[row_indexer,col_indexer] = value instead\n",
            "\n",
            "See the caveats in the documentation: https://pandas.pydata.org/pandas-docs/stable/user_guide/indexing.html#returning-a-view-versus-a-copy\n",
            "  new_file1['Thời gian cập nhật'] = pd.to_datetime(new_file1['Thời gian cập nhật'])\n"
          ]
        },
        {
          "output_type": "execute_result",
          "data": {
            "text/plain": [
              "                                               Tên trạm  Sương  Độ ẩm  \\\n",
              "0     Ho Chi Minh City US Consulate, Vietnam (Lãnh s...    0.0   83.0   \n",
              "23    Ho Chi Minh City US Consulate, Vietnam (Lãnh s...    0.0   56.5   \n",
              "46    Ho Chi Minh City US Consulate, Vietnam (Lãnh s...    0.0   49.0   \n",
              "69    Ho Chi Minh City US Consulate, Vietnam (Lãnh s...    0.0   74.0   \n",
              "92    Ho Chi Minh City US Consulate, Vietnam (Lãnh s...    0.0   62.0   \n",
              "...                                                 ...    ...    ...   \n",
              "2507  Ho Chi Minh City US Consulate, Vietnam (Lãnh s...   24.0   66.0   \n",
              "2530  Ho Chi Minh City US Consulate, Vietnam (Lãnh s...   24.0   66.0   \n",
              "2553  Ho Chi Minh City US Consulate, Vietnam (Lãnh s...   25.0   79.0   \n",
              "2576  Ho Chi Minh City US Consulate, Vietnam (Lãnh s...   20.5   69.0   \n",
              "2599  Ho Chi Minh City US Consulate, Vietnam (Lãnh s...   25.5   85.5   \n",
              "\n",
              "       Áp suất Bụi PM2.5  Nhiệt độ  Tốc độ gió  Thời gian cập nhật  \n",
              "0     1,009.00    102.00      27.0         3.6 2021-01-21 19:00:00  \n",
              "23    1,008.50    122.00      30.5         2.5 2021-01-22 13:00:00  \n",
              "46    1,007.00    114.00      32.0         1.5 2021-01-23 15:00:00  \n",
              "69    1,009.00     80.00      27.0         4.1 2021-01-25 19:00:00  \n",
              "92    1,007.00    137.00      31.0         5.1 2021-01-26 16:00:00  \n",
              "...        ...       ...       ...         ...                 ...  \n",
              "2507  1,010.00     97.00      31.0         2.8 2021-11-10 10:00:00  \n",
              "2530  1,008.50     65.00      31.0         3.6 2021-11-16 12:00:00  \n",
              "2553  1,009.00    114.00      29.0         1.5 2021-11-20 09:00:00  \n",
              "2576  1,011.00     89.00      26.5         3.0 2021-11-26 09:00:00  \n",
              "2599  1,006.00     93.00      28.0         1.0 2021-11-29 14:00:00  \n",
              "\n",
              "[114 rows x 8 columns]"
            ],
            "text/html": [
              "\n",
              "  <div id=\"df-f084345a-8045-4b67-95ce-6d0c6d86a6a5\" class=\"colab-df-container\">\n",
              "    <div>\n",
              "<style scoped>\n",
              "    .dataframe tbody tr th:only-of-type {\n",
              "        vertical-align: middle;\n",
              "    }\n",
              "\n",
              "    .dataframe tbody tr th {\n",
              "        vertical-align: top;\n",
              "    }\n",
              "\n",
              "    .dataframe thead th {\n",
              "        text-align: right;\n",
              "    }\n",
              "</style>\n",
              "<table border=\"1\" class=\"dataframe\">\n",
              "  <thead>\n",
              "    <tr style=\"text-align: right;\">\n",
              "      <th></th>\n",
              "      <th>Tên trạm</th>\n",
              "      <th>Sương</th>\n",
              "      <th>Độ ẩm</th>\n",
              "      <th>Áp suất</th>\n",
              "      <th>Bụi PM2.5</th>\n",
              "      <th>Nhiệt độ</th>\n",
              "      <th>Tốc độ gió</th>\n",
              "      <th>Thời gian cập nhật</th>\n",
              "    </tr>\n",
              "  </thead>\n",
              "  <tbody>\n",
              "    <tr>\n",
              "      <th>0</th>\n",
              "      <td>Ho Chi Minh City US Consulate, Vietnam (Lãnh s...</td>\n",
              "      <td>0.0</td>\n",
              "      <td>83.0</td>\n",
              "      <td>1,009.00</td>\n",
              "      <td>102.00</td>\n",
              "      <td>27.0</td>\n",
              "      <td>3.6</td>\n",
              "      <td>2021-01-21 19:00:00</td>\n",
              "    </tr>\n",
              "    <tr>\n",
              "      <th>23</th>\n",
              "      <td>Ho Chi Minh City US Consulate, Vietnam (Lãnh s...</td>\n",
              "      <td>0.0</td>\n",
              "      <td>56.5</td>\n",
              "      <td>1,008.50</td>\n",
              "      <td>122.00</td>\n",
              "      <td>30.5</td>\n",
              "      <td>2.5</td>\n",
              "      <td>2021-01-22 13:00:00</td>\n",
              "    </tr>\n",
              "    <tr>\n",
              "      <th>46</th>\n",
              "      <td>Ho Chi Minh City US Consulate, Vietnam (Lãnh s...</td>\n",
              "      <td>0.0</td>\n",
              "      <td>49.0</td>\n",
              "      <td>1,007.00</td>\n",
              "      <td>114.00</td>\n",
              "      <td>32.0</td>\n",
              "      <td>1.5</td>\n",
              "      <td>2021-01-23 15:00:00</td>\n",
              "    </tr>\n",
              "    <tr>\n",
              "      <th>69</th>\n",
              "      <td>Ho Chi Minh City US Consulate, Vietnam (Lãnh s...</td>\n",
              "      <td>0.0</td>\n",
              "      <td>74.0</td>\n",
              "      <td>1,009.00</td>\n",
              "      <td>80.00</td>\n",
              "      <td>27.0</td>\n",
              "      <td>4.1</td>\n",
              "      <td>2021-01-25 19:00:00</td>\n",
              "    </tr>\n",
              "    <tr>\n",
              "      <th>92</th>\n",
              "      <td>Ho Chi Minh City US Consulate, Vietnam (Lãnh s...</td>\n",
              "      <td>0.0</td>\n",
              "      <td>62.0</td>\n",
              "      <td>1,007.00</td>\n",
              "      <td>137.00</td>\n",
              "      <td>31.0</td>\n",
              "      <td>5.1</td>\n",
              "      <td>2021-01-26 16:00:00</td>\n",
              "    </tr>\n",
              "    <tr>\n",
              "      <th>...</th>\n",
              "      <td>...</td>\n",
              "      <td>...</td>\n",
              "      <td>...</td>\n",
              "      <td>...</td>\n",
              "      <td>...</td>\n",
              "      <td>...</td>\n",
              "      <td>...</td>\n",
              "      <td>...</td>\n",
              "    </tr>\n",
              "    <tr>\n",
              "      <th>2507</th>\n",
              "      <td>Ho Chi Minh City US Consulate, Vietnam (Lãnh s...</td>\n",
              "      <td>24.0</td>\n",
              "      <td>66.0</td>\n",
              "      <td>1,010.00</td>\n",
              "      <td>97.00</td>\n",
              "      <td>31.0</td>\n",
              "      <td>2.8</td>\n",
              "      <td>2021-11-10 10:00:00</td>\n",
              "    </tr>\n",
              "    <tr>\n",
              "      <th>2530</th>\n",
              "      <td>Ho Chi Minh City US Consulate, Vietnam (Lãnh s...</td>\n",
              "      <td>24.0</td>\n",
              "      <td>66.0</td>\n",
              "      <td>1,008.50</td>\n",
              "      <td>65.00</td>\n",
              "      <td>31.0</td>\n",
              "      <td>3.6</td>\n",
              "      <td>2021-11-16 12:00:00</td>\n",
              "    </tr>\n",
              "    <tr>\n",
              "      <th>2553</th>\n",
              "      <td>Ho Chi Minh City US Consulate, Vietnam (Lãnh s...</td>\n",
              "      <td>25.0</td>\n",
              "      <td>79.0</td>\n",
              "      <td>1,009.00</td>\n",
              "      <td>114.00</td>\n",
              "      <td>29.0</td>\n",
              "      <td>1.5</td>\n",
              "      <td>2021-11-20 09:00:00</td>\n",
              "    </tr>\n",
              "    <tr>\n",
              "      <th>2576</th>\n",
              "      <td>Ho Chi Minh City US Consulate, Vietnam (Lãnh s...</td>\n",
              "      <td>20.5</td>\n",
              "      <td>69.0</td>\n",
              "      <td>1,011.00</td>\n",
              "      <td>89.00</td>\n",
              "      <td>26.5</td>\n",
              "      <td>3.0</td>\n",
              "      <td>2021-11-26 09:00:00</td>\n",
              "    </tr>\n",
              "    <tr>\n",
              "      <th>2599</th>\n",
              "      <td>Ho Chi Minh City US Consulate, Vietnam (Lãnh s...</td>\n",
              "      <td>25.5</td>\n",
              "      <td>85.5</td>\n",
              "      <td>1,006.00</td>\n",
              "      <td>93.00</td>\n",
              "      <td>28.0</td>\n",
              "      <td>1.0</td>\n",
              "      <td>2021-11-29 14:00:00</td>\n",
              "    </tr>\n",
              "  </tbody>\n",
              "</table>\n",
              "<p>114 rows × 8 columns</p>\n",
              "</div>\n",
              "    <div class=\"colab-df-buttons\">\n",
              "\n",
              "  <div class=\"colab-df-container\">\n",
              "    <button class=\"colab-df-convert\" onclick=\"convertToInteractive('df-f084345a-8045-4b67-95ce-6d0c6d86a6a5')\"\n",
              "            title=\"Convert this dataframe to an interactive table.\"\n",
              "            style=\"display:none;\">\n",
              "\n",
              "  <svg xmlns=\"http://www.w3.org/2000/svg\" height=\"24px\" viewBox=\"0 -960 960 960\">\n",
              "    <path d=\"M120-120v-720h720v720H120Zm60-500h600v-160H180v160Zm220 220h160v-160H400v160Zm0 220h160v-160H400v160ZM180-400h160v-160H180v160Zm440 0h160v-160H620v160ZM180-180h160v-160H180v160Zm440 0h160v-160H620v160Z\"/>\n",
              "  </svg>\n",
              "    </button>\n",
              "\n",
              "  <style>\n",
              "    .colab-df-container {\n",
              "      display:flex;\n",
              "      gap: 12px;\n",
              "    }\n",
              "\n",
              "    .colab-df-convert {\n",
              "      background-color: #E8F0FE;\n",
              "      border: none;\n",
              "      border-radius: 50%;\n",
              "      cursor: pointer;\n",
              "      display: none;\n",
              "      fill: #1967D2;\n",
              "      height: 32px;\n",
              "      padding: 0 0 0 0;\n",
              "      width: 32px;\n",
              "    }\n",
              "\n",
              "    .colab-df-convert:hover {\n",
              "      background-color: #E2EBFA;\n",
              "      box-shadow: 0px 1px 2px rgba(60, 64, 67, 0.3), 0px 1px 3px 1px rgba(60, 64, 67, 0.15);\n",
              "      fill: #174EA6;\n",
              "    }\n",
              "\n",
              "    .colab-df-buttons div {\n",
              "      margin-bottom: 4px;\n",
              "    }\n",
              "\n",
              "    [theme=dark] .colab-df-convert {\n",
              "      background-color: #3B4455;\n",
              "      fill: #D2E3FC;\n",
              "    }\n",
              "\n",
              "    [theme=dark] .colab-df-convert:hover {\n",
              "      background-color: #434B5C;\n",
              "      box-shadow: 0px 1px 3px 1px rgba(0, 0, 0, 0.15);\n",
              "      filter: drop-shadow(0px 1px 2px rgba(0, 0, 0, 0.3));\n",
              "      fill: #FFFFFF;\n",
              "    }\n",
              "  </style>\n",
              "\n",
              "    <script>\n",
              "      const buttonEl =\n",
              "        document.querySelector('#df-f084345a-8045-4b67-95ce-6d0c6d86a6a5 button.colab-df-convert');\n",
              "      buttonEl.style.display =\n",
              "        google.colab.kernel.accessAllowed ? 'block' : 'none';\n",
              "\n",
              "      async function convertToInteractive(key) {\n",
              "        const element = document.querySelector('#df-f084345a-8045-4b67-95ce-6d0c6d86a6a5');\n",
              "        const dataTable =\n",
              "          await google.colab.kernel.invokeFunction('convertToInteractive',\n",
              "                                                    [key], {});\n",
              "        if (!dataTable) return;\n",
              "\n",
              "        const docLinkHtml = 'Like what you see? Visit the ' +\n",
              "          '<a target=\"_blank\" href=https://colab.research.google.com/notebooks/data_table.ipynb>data table notebook</a>'\n",
              "          + ' to learn more about interactive tables.';\n",
              "        element.innerHTML = '';\n",
              "        dataTable['output_type'] = 'display_data';\n",
              "        await google.colab.output.renderOutput(dataTable, element);\n",
              "        const docLink = document.createElement('div');\n",
              "        docLink.innerHTML = docLinkHtml;\n",
              "        element.appendChild(docLink);\n",
              "      }\n",
              "    </script>\n",
              "  </div>\n",
              "\n",
              "\n",
              "<div id=\"df-f69f1a4a-0acf-46f2-8777-0b59abd6046c\">\n",
              "  <button class=\"colab-df-quickchart\" onclick=\"quickchart('df-f69f1a4a-0acf-46f2-8777-0b59abd6046c')\"\n",
              "            title=\"Suggest charts.\"\n",
              "            style=\"display:none;\">\n",
              "\n",
              "<svg xmlns=\"http://www.w3.org/2000/svg\" height=\"24px\"viewBox=\"0 0 24 24\"\n",
              "     width=\"24px\">\n",
              "    <g>\n",
              "        <path d=\"M19 3H5c-1.1 0-2 .9-2 2v14c0 1.1.9 2 2 2h14c1.1 0 2-.9 2-2V5c0-1.1-.9-2-2-2zM9 17H7v-7h2v7zm4 0h-2V7h2v10zm4 0h-2v-4h2v4z\"/>\n",
              "    </g>\n",
              "</svg>\n",
              "  </button>\n",
              "\n",
              "<style>\n",
              "  .colab-df-quickchart {\n",
              "      --bg-color: #E8F0FE;\n",
              "      --fill-color: #1967D2;\n",
              "      --hover-bg-color: #E2EBFA;\n",
              "      --hover-fill-color: #174EA6;\n",
              "      --disabled-fill-color: #AAA;\n",
              "      --disabled-bg-color: #DDD;\n",
              "  }\n",
              "\n",
              "  [theme=dark] .colab-df-quickchart {\n",
              "      --bg-color: #3B4455;\n",
              "      --fill-color: #D2E3FC;\n",
              "      --hover-bg-color: #434B5C;\n",
              "      --hover-fill-color: #FFFFFF;\n",
              "      --disabled-bg-color: #3B4455;\n",
              "      --disabled-fill-color: #666;\n",
              "  }\n",
              "\n",
              "  .colab-df-quickchart {\n",
              "    background-color: var(--bg-color);\n",
              "    border: none;\n",
              "    border-radius: 50%;\n",
              "    cursor: pointer;\n",
              "    display: none;\n",
              "    fill: var(--fill-color);\n",
              "    height: 32px;\n",
              "    padding: 0;\n",
              "    width: 32px;\n",
              "  }\n",
              "\n",
              "  .colab-df-quickchart:hover {\n",
              "    background-color: var(--hover-bg-color);\n",
              "    box-shadow: 0 1px 2px rgba(60, 64, 67, 0.3), 0 1px 3px 1px rgba(60, 64, 67, 0.15);\n",
              "    fill: var(--button-hover-fill-color);\n",
              "  }\n",
              "\n",
              "  .colab-df-quickchart-complete:disabled,\n",
              "  .colab-df-quickchart-complete:disabled:hover {\n",
              "    background-color: var(--disabled-bg-color);\n",
              "    fill: var(--disabled-fill-color);\n",
              "    box-shadow: none;\n",
              "  }\n",
              "\n",
              "  .colab-df-spinner {\n",
              "    border: 2px solid var(--fill-color);\n",
              "    border-color: transparent;\n",
              "    border-bottom-color: var(--fill-color);\n",
              "    animation:\n",
              "      spin 1s steps(1) infinite;\n",
              "  }\n",
              "\n",
              "  @keyframes spin {\n",
              "    0% {\n",
              "      border-color: transparent;\n",
              "      border-bottom-color: var(--fill-color);\n",
              "      border-left-color: var(--fill-color);\n",
              "    }\n",
              "    20% {\n",
              "      border-color: transparent;\n",
              "      border-left-color: var(--fill-color);\n",
              "      border-top-color: var(--fill-color);\n",
              "    }\n",
              "    30% {\n",
              "      border-color: transparent;\n",
              "      border-left-color: var(--fill-color);\n",
              "      border-top-color: var(--fill-color);\n",
              "      border-right-color: var(--fill-color);\n",
              "    }\n",
              "    40% {\n",
              "      border-color: transparent;\n",
              "      border-right-color: var(--fill-color);\n",
              "      border-top-color: var(--fill-color);\n",
              "    }\n",
              "    60% {\n",
              "      border-color: transparent;\n",
              "      border-right-color: var(--fill-color);\n",
              "    }\n",
              "    80% {\n",
              "      border-color: transparent;\n",
              "      border-right-color: var(--fill-color);\n",
              "      border-bottom-color: var(--fill-color);\n",
              "    }\n",
              "    90% {\n",
              "      border-color: transparent;\n",
              "      border-bottom-color: var(--fill-color);\n",
              "    }\n",
              "  }\n",
              "</style>\n",
              "\n",
              "  <script>\n",
              "    async function quickchart(key) {\n",
              "      const quickchartButtonEl =\n",
              "        document.querySelector('#' + key + ' button');\n",
              "      quickchartButtonEl.disabled = true;  // To prevent multiple clicks.\n",
              "      quickchartButtonEl.classList.add('colab-df-spinner');\n",
              "      try {\n",
              "        const charts = await google.colab.kernel.invokeFunction(\n",
              "            'suggestCharts', [key], {});\n",
              "      } catch (error) {\n",
              "        console.error('Error during call to suggestCharts:', error);\n",
              "      }\n",
              "      quickchartButtonEl.classList.remove('colab-df-spinner');\n",
              "      quickchartButtonEl.classList.add('colab-df-quickchart-complete');\n",
              "    }\n",
              "    (() => {\n",
              "      let quickchartButtonEl =\n",
              "        document.querySelector('#df-f69f1a4a-0acf-46f2-8777-0b59abd6046c button');\n",
              "      quickchartButtonEl.style.display =\n",
              "        google.colab.kernel.accessAllowed ? 'block' : 'none';\n",
              "    })();\n",
              "  </script>\n",
              "</div>\n",
              "    </div>\n",
              "  </div>\n"
            ]
          },
          "metadata": {},
          "execution_count": 2
        }
      ],
      "source": [
        "import pandas as pd\n",
        "import numpy as np\n",
        "\n",
        "file = pd.read_csv('/content/drive/MyDrive/Colab Notebooks/DAN/historical_air_quality_2021_vi.csv') # Đường dẫn tới file csv trong Google Drive\n",
        "new_file1 = file[file['Tên trạm'] == 'Ho Chi Minh City US Consulate, Vietnam (Lãnh sự quán Hoa Kỳ, Hồ Chí Minh)']\n",
        "new_file1.drop([\"Chỉ số AQI\", \"Vị trí\", \"Url\", \"Mã trạm\", \"Chất ô nhiễm chủ đạo\", \"Trạng thái cảnh báo\", \"Mức độ cảnh báo\", \"Múi giờ\"], axis=1, inplace=True)\n",
        "new_file1.replace('-', np.nan, inplace=True)\n",
        "new_file1.dropna(axis=1, how='any', inplace=True)\n",
        "new_file1['Thời gian cập nhật'] = pd.to_datetime(new_file1['Thời gian cập nhật'])\n",
        "new_file1 = new_file1.sort_values(by='Thời gian cập nhật')\n",
        "\n",
        "new_file1"
      ]
    },
    {
      "cell_type": "code",
      "source": [
        "from numpy import float64\n",
        "new_file1[\"Áp suất\"] = new_file1[\"Áp suất\"].str.replace(',', '').astype(float64)\n",
        "new_file1[\"Bụi PM2.5\"] = pd.to_numeric(new_file1[\"Bụi PM2.5\"], errors='coerce')\n",
        "\n",
        "new_file1.info()"
      ],
      "metadata": {
        "colab": {
          "base_uri": "https://localhost:8080/"
        },
        "id": "NO5Xs18k2--A",
        "outputId": "67479e53-0e89-46cb-9a9b-17caff714183"
      },
      "execution_count": null,
      "outputs": [
        {
          "output_type": "stream",
          "name": "stdout",
          "text": [
            "<class 'pandas.core.frame.DataFrame'>\n",
            "Int64Index: 114 entries, 0 to 2599\n",
            "Data columns (total 8 columns):\n",
            " #   Column              Non-Null Count  Dtype         \n",
            "---  ------              --------------  -----         \n",
            " 0   Tên trạm            114 non-null    object        \n",
            " 1   Sương               114 non-null    float64       \n",
            " 2   Độ ẩm               114 non-null    float64       \n",
            " 3   Áp suất             114 non-null    float64       \n",
            " 4   Bụi PM2.5           114 non-null    float64       \n",
            " 5   Nhiệt độ            114 non-null    float64       \n",
            " 6   Tốc độ gió          114 non-null    float64       \n",
            " 7   Thời gian cập nhật  114 non-null    datetime64[ns]\n",
            "dtypes: datetime64[ns](1), float64(6), object(1)\n",
            "memory usage: 8.0+ KB\n"
          ]
        }
      ]
    },
    {
      "cell_type": "code",
      "source": [
        "new_file1.describe().round(3)"
      ],
      "metadata": {
        "colab": {
          "base_uri": "https://localhost:8080/",
          "height": 300
        },
        "id": "sU_VTQpXMNTw",
        "outputId": "33ed2756-4670-4052-f04a-04f073285635"
      },
      "execution_count": null,
      "outputs": [
        {
          "output_type": "execute_result",
          "data": {
            "text/plain": [
              "         Sương    Độ ẩm   Áp suất  Bụi PM2.5  Nhiệt độ  Tốc độ gió\n",
              "count  114.000  114.000   114.000    114.000   114.000     114.000\n",
              "mean    20.601   69.939  1008.513     67.886    29.781       3.067\n",
              "std      8.469   16.513     2.343     28.135     2.575       1.610\n",
              "min      0.000   30.000  1003.000      9.000    24.000       0.200\n",
              "25%     20.625   59.000  1007.000     50.000    28.000       1.800\n",
              "50%     24.000   73.500  1009.000     65.000    29.750       3.000\n",
              "75%     25.500   83.000  1010.000     82.000    31.000       4.250\n",
              "max     27.000  100.000  1013.000    156.000    35.000       6.900"
            ],
            "text/html": [
              "\n",
              "  <div id=\"df-6718ac61-618c-4042-b889-70afced9a6f0\" class=\"colab-df-container\">\n",
              "    <div>\n",
              "<style scoped>\n",
              "    .dataframe tbody tr th:only-of-type {\n",
              "        vertical-align: middle;\n",
              "    }\n",
              "\n",
              "    .dataframe tbody tr th {\n",
              "        vertical-align: top;\n",
              "    }\n",
              "\n",
              "    .dataframe thead th {\n",
              "        text-align: right;\n",
              "    }\n",
              "</style>\n",
              "<table border=\"1\" class=\"dataframe\">\n",
              "  <thead>\n",
              "    <tr style=\"text-align: right;\">\n",
              "      <th></th>\n",
              "      <th>Sương</th>\n",
              "      <th>Độ ẩm</th>\n",
              "      <th>Áp suất</th>\n",
              "      <th>Bụi PM2.5</th>\n",
              "      <th>Nhiệt độ</th>\n",
              "      <th>Tốc độ gió</th>\n",
              "    </tr>\n",
              "  </thead>\n",
              "  <tbody>\n",
              "    <tr>\n",
              "      <th>count</th>\n",
              "      <td>114.000</td>\n",
              "      <td>114.000</td>\n",
              "      <td>114.000</td>\n",
              "      <td>114.000</td>\n",
              "      <td>114.000</td>\n",
              "      <td>114.000</td>\n",
              "    </tr>\n",
              "    <tr>\n",
              "      <th>mean</th>\n",
              "      <td>20.601</td>\n",
              "      <td>69.939</td>\n",
              "      <td>1008.513</td>\n",
              "      <td>67.886</td>\n",
              "      <td>29.781</td>\n",
              "      <td>3.067</td>\n",
              "    </tr>\n",
              "    <tr>\n",
              "      <th>std</th>\n",
              "      <td>8.469</td>\n",
              "      <td>16.513</td>\n",
              "      <td>2.343</td>\n",
              "      <td>28.135</td>\n",
              "      <td>2.575</td>\n",
              "      <td>1.610</td>\n",
              "    </tr>\n",
              "    <tr>\n",
              "      <th>min</th>\n",
              "      <td>0.000</td>\n",
              "      <td>30.000</td>\n",
              "      <td>1003.000</td>\n",
              "      <td>9.000</td>\n",
              "      <td>24.000</td>\n",
              "      <td>0.200</td>\n",
              "    </tr>\n",
              "    <tr>\n",
              "      <th>25%</th>\n",
              "      <td>20.625</td>\n",
              "      <td>59.000</td>\n",
              "      <td>1007.000</td>\n",
              "      <td>50.000</td>\n",
              "      <td>28.000</td>\n",
              "      <td>1.800</td>\n",
              "    </tr>\n",
              "    <tr>\n",
              "      <th>50%</th>\n",
              "      <td>24.000</td>\n",
              "      <td>73.500</td>\n",
              "      <td>1009.000</td>\n",
              "      <td>65.000</td>\n",
              "      <td>29.750</td>\n",
              "      <td>3.000</td>\n",
              "    </tr>\n",
              "    <tr>\n",
              "      <th>75%</th>\n",
              "      <td>25.500</td>\n",
              "      <td>83.000</td>\n",
              "      <td>1010.000</td>\n",
              "      <td>82.000</td>\n",
              "      <td>31.000</td>\n",
              "      <td>4.250</td>\n",
              "    </tr>\n",
              "    <tr>\n",
              "      <th>max</th>\n",
              "      <td>27.000</td>\n",
              "      <td>100.000</td>\n",
              "      <td>1013.000</td>\n",
              "      <td>156.000</td>\n",
              "      <td>35.000</td>\n",
              "      <td>6.900</td>\n",
              "    </tr>\n",
              "  </tbody>\n",
              "</table>\n",
              "</div>\n",
              "    <div class=\"colab-df-buttons\">\n",
              "\n",
              "  <div class=\"colab-df-container\">\n",
              "    <button class=\"colab-df-convert\" onclick=\"convertToInteractive('df-6718ac61-618c-4042-b889-70afced9a6f0')\"\n",
              "            title=\"Convert this dataframe to an interactive table.\"\n",
              "            style=\"display:none;\">\n",
              "\n",
              "  <svg xmlns=\"http://www.w3.org/2000/svg\" height=\"24px\" viewBox=\"0 -960 960 960\">\n",
              "    <path d=\"M120-120v-720h720v720H120Zm60-500h600v-160H180v160Zm220 220h160v-160H400v160Zm0 220h160v-160H400v160ZM180-400h160v-160H180v160Zm440 0h160v-160H620v160ZM180-180h160v-160H180v160Zm440 0h160v-160H620v160Z\"/>\n",
              "  </svg>\n",
              "    </button>\n",
              "\n",
              "  <style>\n",
              "    .colab-df-container {\n",
              "      display:flex;\n",
              "      gap: 12px;\n",
              "    }\n",
              "\n",
              "    .colab-df-convert {\n",
              "      background-color: #E8F0FE;\n",
              "      border: none;\n",
              "      border-radius: 50%;\n",
              "      cursor: pointer;\n",
              "      display: none;\n",
              "      fill: #1967D2;\n",
              "      height: 32px;\n",
              "      padding: 0 0 0 0;\n",
              "      width: 32px;\n",
              "    }\n",
              "\n",
              "    .colab-df-convert:hover {\n",
              "      background-color: #E2EBFA;\n",
              "      box-shadow: 0px 1px 2px rgba(60, 64, 67, 0.3), 0px 1px 3px 1px rgba(60, 64, 67, 0.15);\n",
              "      fill: #174EA6;\n",
              "    }\n",
              "\n",
              "    .colab-df-buttons div {\n",
              "      margin-bottom: 4px;\n",
              "    }\n",
              "\n",
              "    [theme=dark] .colab-df-convert {\n",
              "      background-color: #3B4455;\n",
              "      fill: #D2E3FC;\n",
              "    }\n",
              "\n",
              "    [theme=dark] .colab-df-convert:hover {\n",
              "      background-color: #434B5C;\n",
              "      box-shadow: 0px 1px 3px 1px rgba(0, 0, 0, 0.15);\n",
              "      filter: drop-shadow(0px 1px 2px rgba(0, 0, 0, 0.3));\n",
              "      fill: #FFFFFF;\n",
              "    }\n",
              "  </style>\n",
              "\n",
              "    <script>\n",
              "      const buttonEl =\n",
              "        document.querySelector('#df-6718ac61-618c-4042-b889-70afced9a6f0 button.colab-df-convert');\n",
              "      buttonEl.style.display =\n",
              "        google.colab.kernel.accessAllowed ? 'block' : 'none';\n",
              "\n",
              "      async function convertToInteractive(key) {\n",
              "        const element = document.querySelector('#df-6718ac61-618c-4042-b889-70afced9a6f0');\n",
              "        const dataTable =\n",
              "          await google.colab.kernel.invokeFunction('convertToInteractive',\n",
              "                                                    [key], {});\n",
              "        if (!dataTable) return;\n",
              "\n",
              "        const docLinkHtml = 'Like what you see? Visit the ' +\n",
              "          '<a target=\"_blank\" href=https://colab.research.google.com/notebooks/data_table.ipynb>data table notebook</a>'\n",
              "          + ' to learn more about interactive tables.';\n",
              "        element.innerHTML = '';\n",
              "        dataTable['output_type'] = 'display_data';\n",
              "        await google.colab.output.renderOutput(dataTable, element);\n",
              "        const docLink = document.createElement('div');\n",
              "        docLink.innerHTML = docLinkHtml;\n",
              "        element.appendChild(docLink);\n",
              "      }\n",
              "    </script>\n",
              "  </div>\n",
              "\n",
              "\n",
              "<div id=\"df-6c94b11d-cd39-4b28-9865-4705da38b339\">\n",
              "  <button class=\"colab-df-quickchart\" onclick=\"quickchart('df-6c94b11d-cd39-4b28-9865-4705da38b339')\"\n",
              "            title=\"Suggest charts.\"\n",
              "            style=\"display:none;\">\n",
              "\n",
              "<svg xmlns=\"http://www.w3.org/2000/svg\" height=\"24px\"viewBox=\"0 0 24 24\"\n",
              "     width=\"24px\">\n",
              "    <g>\n",
              "        <path d=\"M19 3H5c-1.1 0-2 .9-2 2v14c0 1.1.9 2 2 2h14c1.1 0 2-.9 2-2V5c0-1.1-.9-2-2-2zM9 17H7v-7h2v7zm4 0h-2V7h2v10zm4 0h-2v-4h2v4z\"/>\n",
              "    </g>\n",
              "</svg>\n",
              "  </button>\n",
              "\n",
              "<style>\n",
              "  .colab-df-quickchart {\n",
              "      --bg-color: #E8F0FE;\n",
              "      --fill-color: #1967D2;\n",
              "      --hover-bg-color: #E2EBFA;\n",
              "      --hover-fill-color: #174EA6;\n",
              "      --disabled-fill-color: #AAA;\n",
              "      --disabled-bg-color: #DDD;\n",
              "  }\n",
              "\n",
              "  [theme=dark] .colab-df-quickchart {\n",
              "      --bg-color: #3B4455;\n",
              "      --fill-color: #D2E3FC;\n",
              "      --hover-bg-color: #434B5C;\n",
              "      --hover-fill-color: #FFFFFF;\n",
              "      --disabled-bg-color: #3B4455;\n",
              "      --disabled-fill-color: #666;\n",
              "  }\n",
              "\n",
              "  .colab-df-quickchart {\n",
              "    background-color: var(--bg-color);\n",
              "    border: none;\n",
              "    border-radius: 50%;\n",
              "    cursor: pointer;\n",
              "    display: none;\n",
              "    fill: var(--fill-color);\n",
              "    height: 32px;\n",
              "    padding: 0;\n",
              "    width: 32px;\n",
              "  }\n",
              "\n",
              "  .colab-df-quickchart:hover {\n",
              "    background-color: var(--hover-bg-color);\n",
              "    box-shadow: 0 1px 2px rgba(60, 64, 67, 0.3), 0 1px 3px 1px rgba(60, 64, 67, 0.15);\n",
              "    fill: var(--button-hover-fill-color);\n",
              "  }\n",
              "\n",
              "  .colab-df-quickchart-complete:disabled,\n",
              "  .colab-df-quickchart-complete:disabled:hover {\n",
              "    background-color: var(--disabled-bg-color);\n",
              "    fill: var(--disabled-fill-color);\n",
              "    box-shadow: none;\n",
              "  }\n",
              "\n",
              "  .colab-df-spinner {\n",
              "    border: 2px solid var(--fill-color);\n",
              "    border-color: transparent;\n",
              "    border-bottom-color: var(--fill-color);\n",
              "    animation:\n",
              "      spin 1s steps(1) infinite;\n",
              "  }\n",
              "\n",
              "  @keyframes spin {\n",
              "    0% {\n",
              "      border-color: transparent;\n",
              "      border-bottom-color: var(--fill-color);\n",
              "      border-left-color: var(--fill-color);\n",
              "    }\n",
              "    20% {\n",
              "      border-color: transparent;\n",
              "      border-left-color: var(--fill-color);\n",
              "      border-top-color: var(--fill-color);\n",
              "    }\n",
              "    30% {\n",
              "      border-color: transparent;\n",
              "      border-left-color: var(--fill-color);\n",
              "      border-top-color: var(--fill-color);\n",
              "      border-right-color: var(--fill-color);\n",
              "    }\n",
              "    40% {\n",
              "      border-color: transparent;\n",
              "      border-right-color: var(--fill-color);\n",
              "      border-top-color: var(--fill-color);\n",
              "    }\n",
              "    60% {\n",
              "      border-color: transparent;\n",
              "      border-right-color: var(--fill-color);\n",
              "    }\n",
              "    80% {\n",
              "      border-color: transparent;\n",
              "      border-right-color: var(--fill-color);\n",
              "      border-bottom-color: var(--fill-color);\n",
              "    }\n",
              "    90% {\n",
              "      border-color: transparent;\n",
              "      border-bottom-color: var(--fill-color);\n",
              "    }\n",
              "  }\n",
              "</style>\n",
              "\n",
              "  <script>\n",
              "    async function quickchart(key) {\n",
              "      const quickchartButtonEl =\n",
              "        document.querySelector('#' + key + ' button');\n",
              "      quickchartButtonEl.disabled = true;  // To prevent multiple clicks.\n",
              "      quickchartButtonEl.classList.add('colab-df-spinner');\n",
              "      try {\n",
              "        const charts = await google.colab.kernel.invokeFunction(\n",
              "            'suggestCharts', [key], {});\n",
              "      } catch (error) {\n",
              "        console.error('Error during call to suggestCharts:', error);\n",
              "      }\n",
              "      quickchartButtonEl.classList.remove('colab-df-spinner');\n",
              "      quickchartButtonEl.classList.add('colab-df-quickchart-complete');\n",
              "    }\n",
              "    (() => {\n",
              "      let quickchartButtonEl =\n",
              "        document.querySelector('#df-6c94b11d-cd39-4b28-9865-4705da38b339 button');\n",
              "      quickchartButtonEl.style.display =\n",
              "        google.colab.kernel.accessAllowed ? 'block' : 'none';\n",
              "    })();\n",
              "  </script>\n",
              "</div>\n",
              "    </div>\n",
              "  </div>\n"
            ]
          },
          "metadata": {},
          "execution_count": 4
        }
      ]
    },
    {
      "cell_type": "code",
      "source": [
        "new_file = new_file1.copy()\n",
        "\n",
        "new_file['Sương'] = ((new_file['Sương'] - new_file['Sương'].min()) / (new_file['Sương'].max() - new_file['Sương'].min())).round(3)\n",
        "new_file['Độ ẩm'] = ((new_file['Độ ẩm'] - new_file['Độ ẩm'].min()) / (new_file['Độ ẩm'].max() - new_file['Độ ẩm'].min())).round(3)\n",
        "new_file['Áp suất'] = ((new_file['Áp suất'] - new_file['Áp suất'].min()) / (new_file['Áp suất'].max() - new_file['Áp suất'].min())).round(3)\n",
        "new_file['Bụi PM2.5'] = ((new_file['Bụi PM2.5'] - new_file['Bụi PM2.5'].min()) / (new_file['Bụi PM2.5'].max() - new_file['Bụi PM2.5'].min())).round(3)\n",
        "new_file['Nhiệt độ'] = ((new_file['Nhiệt độ'] - new_file['Nhiệt độ'].min()) / (new_file['Nhiệt độ'].max() - new_file['Nhiệt độ'].min())).round(3)\n",
        "new_file['Tốc độ gió'] = ((new_file['Tốc độ gió'] - new_file['Tốc độ gió'].min()) / (new_file['Tốc độ gió'].max() - new_file['Tốc độ gió'].min())).round(3)\n",
        "\n",
        "new_file.drop([\"Tên trạm\"], axis = 1, inplace = True)\n",
        "\n",
        "new_file"
      ],
      "metadata": {
        "colab": {
          "base_uri": "https://localhost:8080/",
          "height": 423
        },
        "id": "hXhrfX3Tvemc",
        "outputId": "eb3b0014-9918-4710-c133-6a884d609202"
      },
      "execution_count": null,
      "outputs": [
        {
          "output_type": "execute_result",
          "data": {
            "text/plain": [
              "      Sương  Độ ẩm  Áp suất  Bụi PM2.5  Nhiệt độ  Tốc độ gió  \\\n",
              "0     0.000  0.757     0.60      0.633     0.273       0.507   \n",
              "23    0.000  0.379     0.55      0.769     0.591       0.343   \n",
              "46    0.000  0.271     0.40      0.714     0.727       0.194   \n",
              "69    0.000  0.629     0.60      0.483     0.273       0.582   \n",
              "92    0.000  0.457     0.40      0.871     0.636       0.731   \n",
              "...     ...    ...      ...        ...       ...         ...   \n",
              "2507  0.889  0.514     0.70      0.599     0.636       0.388   \n",
              "2530  0.889  0.514     0.55      0.381     0.636       0.507   \n",
              "2553  0.926  0.700     0.60      0.714     0.455       0.194   \n",
              "2576  0.759  0.557     0.80      0.544     0.227       0.418   \n",
              "2599  0.944  0.793     0.30      0.571     0.364       0.119   \n",
              "\n",
              "      Thời gian cập nhật  \n",
              "0    2021-01-21 19:00:00  \n",
              "23   2021-01-22 13:00:00  \n",
              "46   2021-01-23 15:00:00  \n",
              "69   2021-01-25 19:00:00  \n",
              "92   2021-01-26 16:00:00  \n",
              "...                  ...  \n",
              "2507 2021-11-10 10:00:00  \n",
              "2530 2021-11-16 12:00:00  \n",
              "2553 2021-11-20 09:00:00  \n",
              "2576 2021-11-26 09:00:00  \n",
              "2599 2021-11-29 14:00:00  \n",
              "\n",
              "[114 rows x 7 columns]"
            ],
            "text/html": [
              "\n",
              "  <div id=\"df-6a7687c2-e60a-4be7-af4d-c4e775838056\" class=\"colab-df-container\">\n",
              "    <div>\n",
              "<style scoped>\n",
              "    .dataframe tbody tr th:only-of-type {\n",
              "        vertical-align: middle;\n",
              "    }\n",
              "\n",
              "    .dataframe tbody tr th {\n",
              "        vertical-align: top;\n",
              "    }\n",
              "\n",
              "    .dataframe thead th {\n",
              "        text-align: right;\n",
              "    }\n",
              "</style>\n",
              "<table border=\"1\" class=\"dataframe\">\n",
              "  <thead>\n",
              "    <tr style=\"text-align: right;\">\n",
              "      <th></th>\n",
              "      <th>Sương</th>\n",
              "      <th>Độ ẩm</th>\n",
              "      <th>Áp suất</th>\n",
              "      <th>Bụi PM2.5</th>\n",
              "      <th>Nhiệt độ</th>\n",
              "      <th>Tốc độ gió</th>\n",
              "      <th>Thời gian cập nhật</th>\n",
              "    </tr>\n",
              "  </thead>\n",
              "  <tbody>\n",
              "    <tr>\n",
              "      <th>0</th>\n",
              "      <td>0.000</td>\n",
              "      <td>0.757</td>\n",
              "      <td>0.60</td>\n",
              "      <td>0.633</td>\n",
              "      <td>0.273</td>\n",
              "      <td>0.507</td>\n",
              "      <td>2021-01-21 19:00:00</td>\n",
              "    </tr>\n",
              "    <tr>\n",
              "      <th>23</th>\n",
              "      <td>0.000</td>\n",
              "      <td>0.379</td>\n",
              "      <td>0.55</td>\n",
              "      <td>0.769</td>\n",
              "      <td>0.591</td>\n",
              "      <td>0.343</td>\n",
              "      <td>2021-01-22 13:00:00</td>\n",
              "    </tr>\n",
              "    <tr>\n",
              "      <th>46</th>\n",
              "      <td>0.000</td>\n",
              "      <td>0.271</td>\n",
              "      <td>0.40</td>\n",
              "      <td>0.714</td>\n",
              "      <td>0.727</td>\n",
              "      <td>0.194</td>\n",
              "      <td>2021-01-23 15:00:00</td>\n",
              "    </tr>\n",
              "    <tr>\n",
              "      <th>69</th>\n",
              "      <td>0.000</td>\n",
              "      <td>0.629</td>\n",
              "      <td>0.60</td>\n",
              "      <td>0.483</td>\n",
              "      <td>0.273</td>\n",
              "      <td>0.582</td>\n",
              "      <td>2021-01-25 19:00:00</td>\n",
              "    </tr>\n",
              "    <tr>\n",
              "      <th>92</th>\n",
              "      <td>0.000</td>\n",
              "      <td>0.457</td>\n",
              "      <td>0.40</td>\n",
              "      <td>0.871</td>\n",
              "      <td>0.636</td>\n",
              "      <td>0.731</td>\n",
              "      <td>2021-01-26 16:00:00</td>\n",
              "    </tr>\n",
              "    <tr>\n",
              "      <th>...</th>\n",
              "      <td>...</td>\n",
              "      <td>...</td>\n",
              "      <td>...</td>\n",
              "      <td>...</td>\n",
              "      <td>...</td>\n",
              "      <td>...</td>\n",
              "      <td>...</td>\n",
              "    </tr>\n",
              "    <tr>\n",
              "      <th>2507</th>\n",
              "      <td>0.889</td>\n",
              "      <td>0.514</td>\n",
              "      <td>0.70</td>\n",
              "      <td>0.599</td>\n",
              "      <td>0.636</td>\n",
              "      <td>0.388</td>\n",
              "      <td>2021-11-10 10:00:00</td>\n",
              "    </tr>\n",
              "    <tr>\n",
              "      <th>2530</th>\n",
              "      <td>0.889</td>\n",
              "      <td>0.514</td>\n",
              "      <td>0.55</td>\n",
              "      <td>0.381</td>\n",
              "      <td>0.636</td>\n",
              "      <td>0.507</td>\n",
              "      <td>2021-11-16 12:00:00</td>\n",
              "    </tr>\n",
              "    <tr>\n",
              "      <th>2553</th>\n",
              "      <td>0.926</td>\n",
              "      <td>0.700</td>\n",
              "      <td>0.60</td>\n",
              "      <td>0.714</td>\n",
              "      <td>0.455</td>\n",
              "      <td>0.194</td>\n",
              "      <td>2021-11-20 09:00:00</td>\n",
              "    </tr>\n",
              "    <tr>\n",
              "      <th>2576</th>\n",
              "      <td>0.759</td>\n",
              "      <td>0.557</td>\n",
              "      <td>0.80</td>\n",
              "      <td>0.544</td>\n",
              "      <td>0.227</td>\n",
              "      <td>0.418</td>\n",
              "      <td>2021-11-26 09:00:00</td>\n",
              "    </tr>\n",
              "    <tr>\n",
              "      <th>2599</th>\n",
              "      <td>0.944</td>\n",
              "      <td>0.793</td>\n",
              "      <td>0.30</td>\n",
              "      <td>0.571</td>\n",
              "      <td>0.364</td>\n",
              "      <td>0.119</td>\n",
              "      <td>2021-11-29 14:00:00</td>\n",
              "    </tr>\n",
              "  </tbody>\n",
              "</table>\n",
              "<p>114 rows × 7 columns</p>\n",
              "</div>\n",
              "    <div class=\"colab-df-buttons\">\n",
              "\n",
              "  <div class=\"colab-df-container\">\n",
              "    <button class=\"colab-df-convert\" onclick=\"convertToInteractive('df-6a7687c2-e60a-4be7-af4d-c4e775838056')\"\n",
              "            title=\"Convert this dataframe to an interactive table.\"\n",
              "            style=\"display:none;\">\n",
              "\n",
              "  <svg xmlns=\"http://www.w3.org/2000/svg\" height=\"24px\" viewBox=\"0 -960 960 960\">\n",
              "    <path d=\"M120-120v-720h720v720H120Zm60-500h600v-160H180v160Zm220 220h160v-160H400v160Zm0 220h160v-160H400v160ZM180-400h160v-160H180v160Zm440 0h160v-160H620v160ZM180-180h160v-160H180v160Zm440 0h160v-160H620v160Z\"/>\n",
              "  </svg>\n",
              "    </button>\n",
              "\n",
              "  <style>\n",
              "    .colab-df-container {\n",
              "      display:flex;\n",
              "      gap: 12px;\n",
              "    }\n",
              "\n",
              "    .colab-df-convert {\n",
              "      background-color: #E8F0FE;\n",
              "      border: none;\n",
              "      border-radius: 50%;\n",
              "      cursor: pointer;\n",
              "      display: none;\n",
              "      fill: #1967D2;\n",
              "      height: 32px;\n",
              "      padding: 0 0 0 0;\n",
              "      width: 32px;\n",
              "    }\n",
              "\n",
              "    .colab-df-convert:hover {\n",
              "      background-color: #E2EBFA;\n",
              "      box-shadow: 0px 1px 2px rgba(60, 64, 67, 0.3), 0px 1px 3px 1px rgba(60, 64, 67, 0.15);\n",
              "      fill: #174EA6;\n",
              "    }\n",
              "\n",
              "    .colab-df-buttons div {\n",
              "      margin-bottom: 4px;\n",
              "    }\n",
              "\n",
              "    [theme=dark] .colab-df-convert {\n",
              "      background-color: #3B4455;\n",
              "      fill: #D2E3FC;\n",
              "    }\n",
              "\n",
              "    [theme=dark] .colab-df-convert:hover {\n",
              "      background-color: #434B5C;\n",
              "      box-shadow: 0px 1px 3px 1px rgba(0, 0, 0, 0.15);\n",
              "      filter: drop-shadow(0px 1px 2px rgba(0, 0, 0, 0.3));\n",
              "      fill: #FFFFFF;\n",
              "    }\n",
              "  </style>\n",
              "\n",
              "    <script>\n",
              "      const buttonEl =\n",
              "        document.querySelector('#df-6a7687c2-e60a-4be7-af4d-c4e775838056 button.colab-df-convert');\n",
              "      buttonEl.style.display =\n",
              "        google.colab.kernel.accessAllowed ? 'block' : 'none';\n",
              "\n",
              "      async function convertToInteractive(key) {\n",
              "        const element = document.querySelector('#df-6a7687c2-e60a-4be7-af4d-c4e775838056');\n",
              "        const dataTable =\n",
              "          await google.colab.kernel.invokeFunction('convertToInteractive',\n",
              "                                                    [key], {});\n",
              "        if (!dataTable) return;\n",
              "\n",
              "        const docLinkHtml = 'Like what you see? Visit the ' +\n",
              "          '<a target=\"_blank\" href=https://colab.research.google.com/notebooks/data_table.ipynb>data table notebook</a>'\n",
              "          + ' to learn more about interactive tables.';\n",
              "        element.innerHTML = '';\n",
              "        dataTable['output_type'] = 'display_data';\n",
              "        await google.colab.output.renderOutput(dataTable, element);\n",
              "        const docLink = document.createElement('div');\n",
              "        docLink.innerHTML = docLinkHtml;\n",
              "        element.appendChild(docLink);\n",
              "      }\n",
              "    </script>\n",
              "  </div>\n",
              "\n",
              "\n",
              "<div id=\"df-b5f8378b-4659-45ab-82f6-5ab18330778e\">\n",
              "  <button class=\"colab-df-quickchart\" onclick=\"quickchart('df-b5f8378b-4659-45ab-82f6-5ab18330778e')\"\n",
              "            title=\"Suggest charts.\"\n",
              "            style=\"display:none;\">\n",
              "\n",
              "<svg xmlns=\"http://www.w3.org/2000/svg\" height=\"24px\"viewBox=\"0 0 24 24\"\n",
              "     width=\"24px\">\n",
              "    <g>\n",
              "        <path d=\"M19 3H5c-1.1 0-2 .9-2 2v14c0 1.1.9 2 2 2h14c1.1 0 2-.9 2-2V5c0-1.1-.9-2-2-2zM9 17H7v-7h2v7zm4 0h-2V7h2v10zm4 0h-2v-4h2v4z\"/>\n",
              "    </g>\n",
              "</svg>\n",
              "  </button>\n",
              "\n",
              "<style>\n",
              "  .colab-df-quickchart {\n",
              "      --bg-color: #E8F0FE;\n",
              "      --fill-color: #1967D2;\n",
              "      --hover-bg-color: #E2EBFA;\n",
              "      --hover-fill-color: #174EA6;\n",
              "      --disabled-fill-color: #AAA;\n",
              "      --disabled-bg-color: #DDD;\n",
              "  }\n",
              "\n",
              "  [theme=dark] .colab-df-quickchart {\n",
              "      --bg-color: #3B4455;\n",
              "      --fill-color: #D2E3FC;\n",
              "      --hover-bg-color: #434B5C;\n",
              "      --hover-fill-color: #FFFFFF;\n",
              "      --disabled-bg-color: #3B4455;\n",
              "      --disabled-fill-color: #666;\n",
              "  }\n",
              "\n",
              "  .colab-df-quickchart {\n",
              "    background-color: var(--bg-color);\n",
              "    border: none;\n",
              "    border-radius: 50%;\n",
              "    cursor: pointer;\n",
              "    display: none;\n",
              "    fill: var(--fill-color);\n",
              "    height: 32px;\n",
              "    padding: 0;\n",
              "    width: 32px;\n",
              "  }\n",
              "\n",
              "  .colab-df-quickchart:hover {\n",
              "    background-color: var(--hover-bg-color);\n",
              "    box-shadow: 0 1px 2px rgba(60, 64, 67, 0.3), 0 1px 3px 1px rgba(60, 64, 67, 0.15);\n",
              "    fill: var(--button-hover-fill-color);\n",
              "  }\n",
              "\n",
              "  .colab-df-quickchart-complete:disabled,\n",
              "  .colab-df-quickchart-complete:disabled:hover {\n",
              "    background-color: var(--disabled-bg-color);\n",
              "    fill: var(--disabled-fill-color);\n",
              "    box-shadow: none;\n",
              "  }\n",
              "\n",
              "  .colab-df-spinner {\n",
              "    border: 2px solid var(--fill-color);\n",
              "    border-color: transparent;\n",
              "    border-bottom-color: var(--fill-color);\n",
              "    animation:\n",
              "      spin 1s steps(1) infinite;\n",
              "  }\n",
              "\n",
              "  @keyframes spin {\n",
              "    0% {\n",
              "      border-color: transparent;\n",
              "      border-bottom-color: var(--fill-color);\n",
              "      border-left-color: var(--fill-color);\n",
              "    }\n",
              "    20% {\n",
              "      border-color: transparent;\n",
              "      border-left-color: var(--fill-color);\n",
              "      border-top-color: var(--fill-color);\n",
              "    }\n",
              "    30% {\n",
              "      border-color: transparent;\n",
              "      border-left-color: var(--fill-color);\n",
              "      border-top-color: var(--fill-color);\n",
              "      border-right-color: var(--fill-color);\n",
              "    }\n",
              "    40% {\n",
              "      border-color: transparent;\n",
              "      border-right-color: var(--fill-color);\n",
              "      border-top-color: var(--fill-color);\n",
              "    }\n",
              "    60% {\n",
              "      border-color: transparent;\n",
              "      border-right-color: var(--fill-color);\n",
              "    }\n",
              "    80% {\n",
              "      border-color: transparent;\n",
              "      border-right-color: var(--fill-color);\n",
              "      border-bottom-color: var(--fill-color);\n",
              "    }\n",
              "    90% {\n",
              "      border-color: transparent;\n",
              "      border-bottom-color: var(--fill-color);\n",
              "    }\n",
              "  }\n",
              "</style>\n",
              "\n",
              "  <script>\n",
              "    async function quickchart(key) {\n",
              "      const quickchartButtonEl =\n",
              "        document.querySelector('#' + key + ' button');\n",
              "      quickchartButtonEl.disabled = true;  // To prevent multiple clicks.\n",
              "      quickchartButtonEl.classList.add('colab-df-spinner');\n",
              "      try {\n",
              "        const charts = await google.colab.kernel.invokeFunction(\n",
              "            'suggestCharts', [key], {});\n",
              "      } catch (error) {\n",
              "        console.error('Error during call to suggestCharts:', error);\n",
              "      }\n",
              "      quickchartButtonEl.classList.remove('colab-df-spinner');\n",
              "      quickchartButtonEl.classList.add('colab-df-quickchart-complete');\n",
              "    }\n",
              "    (() => {\n",
              "      let quickchartButtonEl =\n",
              "        document.querySelector('#df-b5f8378b-4659-45ab-82f6-5ab18330778e button');\n",
              "      quickchartButtonEl.style.display =\n",
              "        google.colab.kernel.accessAllowed ? 'block' : 'none';\n",
              "    })();\n",
              "  </script>\n",
              "</div>\n",
              "    </div>\n",
              "  </div>\n"
            ]
          },
          "metadata": {},
          "execution_count": 5
        }
      ]
    },
    {
      "cell_type": "code",
      "source": [
        "import pandas as pd\n",
        "import seaborn as sns #Đây là thư viện để tạo ma trận biểu đồ\n",
        "import os #Đây là thư viện để tương tác với thư mục\n",
        "\n",
        "output_directory = '/content/drive/MyDrive/Colab Notebooks/DAN' #Đường dẫn đến thư mục sẽ lưu hình ảnh\n",
        "\n",
        "#Tạo ma trận biểu đồ\n",
        "sns.set(style=\"ticks\")\n",
        "\n",
        "for index, row in new_file.iterrows():\n",
        "  data = pd.DataFrame(row[['Sương', 'Độ ẩm', 'Áp suất', 'Bụi PM2.5', 'Nhiệt độ', 'Tốc độ gió']]).T\n",
        "  scatter_plot = sns.pairplot(data)\n",
        "  image_filename = os.path.join(output_directory, f'scatter_{index}.png')\n",
        "  scatter_plot.fig.savefig(image_filename)\n",
        "  scatter_plot.fig.clf()\n",
        "\n"
      ],
      "metadata": {
        "id": "ihqI9gzuejqu",
        "colab": {
          "base_uri": "https://localhost:8080/",
          "height": 1000
        },
        "outputId": "d6c4c161-0099-4eed-dab7-724de7011036"
      },
      "execution_count": null,
      "outputs": [
        {
          "output_type": "stream",
          "name": "stderr",
          "text": [
            "/usr/local/lib/python3.10/dist-packages/seaborn/axisgrid.py:1274: RuntimeWarning: More than 20 figures have been opened. Figures created through the pyplot interface (`matplotlib.pyplot.figure`) are retained until explicitly closed and may consume too much memory. (To control this warning, see the rcParam `figure.max_open_warning`). Consider using `matplotlib.pyplot.close()`.\n",
            "  fig = plt.figure(figsize=figsize)\n"
          ]
        },
        {
          "output_type": "display_data",
          "data": {
            "text/plain": [
              "<Figure size 1500x1500 with 0 Axes>"
            ]
          },
          "metadata": {}
        },
        {
          "output_type": "display_data",
          "data": {
            "text/plain": [
              "<Figure size 1500x1500 with 0 Axes>"
            ]
          },
          "metadata": {}
        },
        {
          "output_type": "display_data",
          "data": {
            "text/plain": [
              "<Figure size 1500x1500 with 0 Axes>"
            ]
          },
          "metadata": {}
        },
        {
          "output_type": "display_data",
          "data": {
            "text/plain": [
              "<Figure size 1500x1500 with 0 Axes>"
            ]
          },
          "metadata": {}
        },
        {
          "output_type": "display_data",
          "data": {
            "text/plain": [
              "<Figure size 1500x1500 with 0 Axes>"
            ]
          },
          "metadata": {}
        },
        {
          "output_type": "display_data",
          "data": {
            "text/plain": [
              "<Figure size 1500x1500 with 0 Axes>"
            ]
          },
          "metadata": {}
        },
        {
          "output_type": "display_data",
          "data": {
            "text/plain": [
              "<Figure size 1500x1500 with 0 Axes>"
            ]
          },
          "metadata": {}
        },
        {
          "output_type": "display_data",
          "data": {
            "text/plain": [
              "<Figure size 1500x1500 with 0 Axes>"
            ]
          },
          "metadata": {}
        },
        {
          "output_type": "display_data",
          "data": {
            "text/plain": [
              "<Figure size 1500x1500 with 0 Axes>"
            ]
          },
          "metadata": {}
        },
        {
          "output_type": "display_data",
          "data": {
            "text/plain": [
              "<Figure size 1500x1500 with 0 Axes>"
            ]
          },
          "metadata": {}
        },
        {
          "output_type": "display_data",
          "data": {
            "text/plain": [
              "<Figure size 1500x1500 with 0 Axes>"
            ]
          },
          "metadata": {}
        },
        {
          "output_type": "display_data",
          "data": {
            "text/plain": [
              "<Figure size 1500x1500 with 0 Axes>"
            ]
          },
          "metadata": {}
        },
        {
          "output_type": "display_data",
          "data": {
            "text/plain": [
              "<Figure size 1500x1500 with 0 Axes>"
            ]
          },
          "metadata": {}
        },
        {
          "output_type": "display_data",
          "data": {
            "text/plain": [
              "<Figure size 1500x1500 with 0 Axes>"
            ]
          },
          "metadata": {}
        },
        {
          "output_type": "display_data",
          "data": {
            "text/plain": [
              "<Figure size 1500x1500 with 0 Axes>"
            ]
          },
          "metadata": {}
        },
        {
          "output_type": "display_data",
          "data": {
            "text/plain": [
              "<Figure size 1500x1500 with 0 Axes>"
            ]
          },
          "metadata": {}
        },
        {
          "output_type": "display_data",
          "data": {
            "text/plain": [
              "<Figure size 1500x1500 with 0 Axes>"
            ]
          },
          "metadata": {}
        },
        {
          "output_type": "display_data",
          "data": {
            "text/plain": [
              "<Figure size 1500x1500 with 0 Axes>"
            ]
          },
          "metadata": {}
        },
        {
          "output_type": "display_data",
          "data": {
            "text/plain": [
              "<Figure size 1500x1500 with 0 Axes>"
            ]
          },
          "metadata": {}
        },
        {
          "output_type": "display_data",
          "data": {
            "text/plain": [
              "<Figure size 1500x1500 with 0 Axes>"
            ]
          },
          "metadata": {}
        },
        {
          "output_type": "display_data",
          "data": {
            "text/plain": [
              "<Figure size 1500x1500 with 0 Axes>"
            ]
          },
          "metadata": {}
        },
        {
          "output_type": "display_data",
          "data": {
            "text/plain": [
              "<Figure size 1500x1500 with 0 Axes>"
            ]
          },
          "metadata": {}
        },
        {
          "output_type": "display_data",
          "data": {
            "text/plain": [
              "<Figure size 1500x1500 with 0 Axes>"
            ]
          },
          "metadata": {}
        },
        {
          "output_type": "display_data",
          "data": {
            "text/plain": [
              "<Figure size 1500x1500 with 0 Axes>"
            ]
          },
          "metadata": {}
        },
        {
          "output_type": "display_data",
          "data": {
            "text/plain": [
              "<Figure size 1500x1500 with 0 Axes>"
            ]
          },
          "metadata": {}
        },
        {
          "output_type": "display_data",
          "data": {
            "text/plain": [
              "<Figure size 1500x1500 with 0 Axes>"
            ]
          },
          "metadata": {}
        },
        {
          "output_type": "display_data",
          "data": {
            "text/plain": [
              "<Figure size 1500x1500 with 0 Axes>"
            ]
          },
          "metadata": {}
        },
        {
          "output_type": "display_data",
          "data": {
            "text/plain": [
              "<Figure size 1500x1500 with 0 Axes>"
            ]
          },
          "metadata": {}
        },
        {
          "output_type": "display_data",
          "data": {
            "text/plain": [
              "<Figure size 1500x1500 with 0 Axes>"
            ]
          },
          "metadata": {}
        },
        {
          "output_type": "display_data",
          "data": {
            "text/plain": [
              "<Figure size 1500x1500 with 0 Axes>"
            ]
          },
          "metadata": {}
        },
        {
          "output_type": "display_data",
          "data": {
            "text/plain": [
              "<Figure size 1500x1500 with 0 Axes>"
            ]
          },
          "metadata": {}
        },
        {
          "output_type": "display_data",
          "data": {
            "text/plain": [
              "<Figure size 1500x1500 with 0 Axes>"
            ]
          },
          "metadata": {}
        },
        {
          "output_type": "display_data",
          "data": {
            "text/plain": [
              "<Figure size 1500x1500 with 0 Axes>"
            ]
          },
          "metadata": {}
        },
        {
          "output_type": "display_data",
          "data": {
            "text/plain": [
              "<Figure size 1500x1500 with 0 Axes>"
            ]
          },
          "metadata": {}
        },
        {
          "output_type": "display_data",
          "data": {
            "text/plain": [
              "<Figure size 1500x1500 with 0 Axes>"
            ]
          },
          "metadata": {}
        },
        {
          "output_type": "display_data",
          "data": {
            "text/plain": [
              "<Figure size 1500x1500 with 0 Axes>"
            ]
          },
          "metadata": {}
        },
        {
          "output_type": "display_data",
          "data": {
            "text/plain": [
              "<Figure size 1500x1500 with 0 Axes>"
            ]
          },
          "metadata": {}
        },
        {
          "output_type": "display_data",
          "data": {
            "text/plain": [
              "<Figure size 1500x1500 with 0 Axes>"
            ]
          },
          "metadata": {}
        },
        {
          "output_type": "display_data",
          "data": {
            "text/plain": [
              "<Figure size 1500x1500 with 0 Axes>"
            ]
          },
          "metadata": {}
        },
        {
          "output_type": "display_data",
          "data": {
            "text/plain": [
              "<Figure size 1500x1500 with 0 Axes>"
            ]
          },
          "metadata": {}
        },
        {
          "output_type": "display_data",
          "data": {
            "text/plain": [
              "<Figure size 1500x1500 with 0 Axes>"
            ]
          },
          "metadata": {}
        },
        {
          "output_type": "display_data",
          "data": {
            "text/plain": [
              "<Figure size 1500x1500 with 0 Axes>"
            ]
          },
          "metadata": {}
        },
        {
          "output_type": "display_data",
          "data": {
            "text/plain": [
              "<Figure size 1500x1500 with 0 Axes>"
            ]
          },
          "metadata": {}
        },
        {
          "output_type": "display_data",
          "data": {
            "text/plain": [
              "<Figure size 1500x1500 with 0 Axes>"
            ]
          },
          "metadata": {}
        },
        {
          "output_type": "display_data",
          "data": {
            "text/plain": [
              "<Figure size 1500x1500 with 0 Axes>"
            ]
          },
          "metadata": {}
        },
        {
          "output_type": "display_data",
          "data": {
            "text/plain": [
              "<Figure size 1500x1500 with 0 Axes>"
            ]
          },
          "metadata": {}
        },
        {
          "output_type": "display_data",
          "data": {
            "text/plain": [
              "<Figure size 1500x1500 with 0 Axes>"
            ]
          },
          "metadata": {}
        },
        {
          "output_type": "display_data",
          "data": {
            "text/plain": [
              "<Figure size 1500x1500 with 0 Axes>"
            ]
          },
          "metadata": {}
        },
        {
          "output_type": "display_data",
          "data": {
            "text/plain": [
              "<Figure size 1500x1500 with 0 Axes>"
            ]
          },
          "metadata": {}
        },
        {
          "output_type": "display_data",
          "data": {
            "text/plain": [
              "<Figure size 1500x1500 with 0 Axes>"
            ]
          },
          "metadata": {}
        },
        {
          "output_type": "display_data",
          "data": {
            "text/plain": [
              "<Figure size 1500x1500 with 0 Axes>"
            ]
          },
          "metadata": {}
        },
        {
          "output_type": "display_data",
          "data": {
            "text/plain": [
              "<Figure size 1500x1500 with 0 Axes>"
            ]
          },
          "metadata": {}
        },
        {
          "output_type": "display_data",
          "data": {
            "text/plain": [
              "<Figure size 1500x1500 with 0 Axes>"
            ]
          },
          "metadata": {}
        },
        {
          "output_type": "display_data",
          "data": {
            "text/plain": [
              "<Figure size 1500x1500 with 0 Axes>"
            ]
          },
          "metadata": {}
        },
        {
          "output_type": "display_data",
          "data": {
            "text/plain": [
              "<Figure size 1500x1500 with 0 Axes>"
            ]
          },
          "metadata": {}
        },
        {
          "output_type": "display_data",
          "data": {
            "text/plain": [
              "<Figure size 1500x1500 with 0 Axes>"
            ]
          },
          "metadata": {}
        },
        {
          "output_type": "display_data",
          "data": {
            "text/plain": [
              "<Figure size 1500x1500 with 0 Axes>"
            ]
          },
          "metadata": {}
        },
        {
          "output_type": "display_data",
          "data": {
            "text/plain": [
              "<Figure size 1500x1500 with 0 Axes>"
            ]
          },
          "metadata": {}
        },
        {
          "output_type": "display_data",
          "data": {
            "text/plain": [
              "<Figure size 1500x1500 with 0 Axes>"
            ]
          },
          "metadata": {}
        },
        {
          "output_type": "display_data",
          "data": {
            "text/plain": [
              "<Figure size 1500x1500 with 0 Axes>"
            ]
          },
          "metadata": {}
        },
        {
          "output_type": "display_data",
          "data": {
            "text/plain": [
              "<Figure size 1500x1500 with 0 Axes>"
            ]
          },
          "metadata": {}
        },
        {
          "output_type": "display_data",
          "data": {
            "text/plain": [
              "<Figure size 1500x1500 with 0 Axes>"
            ]
          },
          "metadata": {}
        },
        {
          "output_type": "display_data",
          "data": {
            "text/plain": [
              "<Figure size 1500x1500 with 0 Axes>"
            ]
          },
          "metadata": {}
        },
        {
          "output_type": "display_data",
          "data": {
            "text/plain": [
              "<Figure size 1500x1500 with 0 Axes>"
            ]
          },
          "metadata": {}
        },
        {
          "output_type": "display_data",
          "data": {
            "text/plain": [
              "<Figure size 1500x1500 with 0 Axes>"
            ]
          },
          "metadata": {}
        },
        {
          "output_type": "display_data",
          "data": {
            "text/plain": [
              "<Figure size 1500x1500 with 0 Axes>"
            ]
          },
          "metadata": {}
        },
        {
          "output_type": "display_data",
          "data": {
            "text/plain": [
              "<Figure size 1500x1500 with 0 Axes>"
            ]
          },
          "metadata": {}
        },
        {
          "output_type": "display_data",
          "data": {
            "text/plain": [
              "<Figure size 1500x1500 with 0 Axes>"
            ]
          },
          "metadata": {}
        },
        {
          "output_type": "display_data",
          "data": {
            "text/plain": [
              "<Figure size 1500x1500 with 0 Axes>"
            ]
          },
          "metadata": {}
        },
        {
          "output_type": "display_data",
          "data": {
            "text/plain": [
              "<Figure size 1500x1500 with 0 Axes>"
            ]
          },
          "metadata": {}
        },
        {
          "output_type": "display_data",
          "data": {
            "text/plain": [
              "<Figure size 1500x1500 with 0 Axes>"
            ]
          },
          "metadata": {}
        },
        {
          "output_type": "display_data",
          "data": {
            "text/plain": [
              "<Figure size 1500x1500 with 0 Axes>"
            ]
          },
          "metadata": {}
        },
        {
          "output_type": "display_data",
          "data": {
            "text/plain": [
              "<Figure size 1500x1500 with 0 Axes>"
            ]
          },
          "metadata": {}
        },
        {
          "output_type": "display_data",
          "data": {
            "text/plain": [
              "<Figure size 1500x1500 with 0 Axes>"
            ]
          },
          "metadata": {}
        },
        {
          "output_type": "display_data",
          "data": {
            "text/plain": [
              "<Figure size 1500x1500 with 0 Axes>"
            ]
          },
          "metadata": {}
        },
        {
          "output_type": "display_data",
          "data": {
            "text/plain": [
              "<Figure size 1500x1500 with 0 Axes>"
            ]
          },
          "metadata": {}
        },
        {
          "output_type": "display_data",
          "data": {
            "text/plain": [
              "<Figure size 1500x1500 with 0 Axes>"
            ]
          },
          "metadata": {}
        },
        {
          "output_type": "display_data",
          "data": {
            "text/plain": [
              "<Figure size 1500x1500 with 0 Axes>"
            ]
          },
          "metadata": {}
        },
        {
          "output_type": "display_data",
          "data": {
            "text/plain": [
              "<Figure size 1500x1500 with 0 Axes>"
            ]
          },
          "metadata": {}
        },
        {
          "output_type": "display_data",
          "data": {
            "text/plain": [
              "<Figure size 1500x1500 with 0 Axes>"
            ]
          },
          "metadata": {}
        },
        {
          "output_type": "display_data",
          "data": {
            "text/plain": [
              "<Figure size 1500x1500 with 0 Axes>"
            ]
          },
          "metadata": {}
        },
        {
          "output_type": "display_data",
          "data": {
            "text/plain": [
              "<Figure size 1500x1500 with 0 Axes>"
            ]
          },
          "metadata": {}
        },
        {
          "output_type": "display_data",
          "data": {
            "text/plain": [
              "<Figure size 1500x1500 with 0 Axes>"
            ]
          },
          "metadata": {}
        },
        {
          "output_type": "display_data",
          "data": {
            "text/plain": [
              "<Figure size 1500x1500 with 0 Axes>"
            ]
          },
          "metadata": {}
        },
        {
          "output_type": "display_data",
          "data": {
            "text/plain": [
              "<Figure size 1500x1500 with 0 Axes>"
            ]
          },
          "metadata": {}
        },
        {
          "output_type": "display_data",
          "data": {
            "text/plain": [
              "<Figure size 1500x1500 with 0 Axes>"
            ]
          },
          "metadata": {}
        },
        {
          "output_type": "display_data",
          "data": {
            "text/plain": [
              "<Figure size 1500x1500 with 0 Axes>"
            ]
          },
          "metadata": {}
        },
        {
          "output_type": "display_data",
          "data": {
            "text/plain": [
              "<Figure size 1500x1500 with 0 Axes>"
            ]
          },
          "metadata": {}
        },
        {
          "output_type": "display_data",
          "data": {
            "text/plain": [
              "<Figure size 1500x1500 with 0 Axes>"
            ]
          },
          "metadata": {}
        },
        {
          "output_type": "display_data",
          "data": {
            "text/plain": [
              "<Figure size 1500x1500 with 0 Axes>"
            ]
          },
          "metadata": {}
        },
        {
          "output_type": "display_data",
          "data": {
            "text/plain": [
              "<Figure size 1500x1500 with 0 Axes>"
            ]
          },
          "metadata": {}
        },
        {
          "output_type": "display_data",
          "data": {
            "text/plain": [
              "<Figure size 1500x1500 with 0 Axes>"
            ]
          },
          "metadata": {}
        },
        {
          "output_type": "display_data",
          "data": {
            "text/plain": [
              "<Figure size 1500x1500 with 0 Axes>"
            ]
          },
          "metadata": {}
        },
        {
          "output_type": "display_data",
          "data": {
            "text/plain": [
              "<Figure size 1500x1500 with 0 Axes>"
            ]
          },
          "metadata": {}
        },
        {
          "output_type": "display_data",
          "data": {
            "text/plain": [
              "<Figure size 1500x1500 with 0 Axes>"
            ]
          },
          "metadata": {}
        },
        {
          "output_type": "display_data",
          "data": {
            "text/plain": [
              "<Figure size 1500x1500 with 0 Axes>"
            ]
          },
          "metadata": {}
        },
        {
          "output_type": "display_data",
          "data": {
            "text/plain": [
              "<Figure size 1500x1500 with 0 Axes>"
            ]
          },
          "metadata": {}
        },
        {
          "output_type": "display_data",
          "data": {
            "text/plain": [
              "<Figure size 1500x1500 with 0 Axes>"
            ]
          },
          "metadata": {}
        },
        {
          "output_type": "display_data",
          "data": {
            "text/plain": [
              "<Figure size 1500x1500 with 0 Axes>"
            ]
          },
          "metadata": {}
        },
        {
          "output_type": "display_data",
          "data": {
            "text/plain": [
              "<Figure size 1500x1500 with 0 Axes>"
            ]
          },
          "metadata": {}
        },
        {
          "output_type": "display_data",
          "data": {
            "text/plain": [
              "<Figure size 1500x1500 with 0 Axes>"
            ]
          },
          "metadata": {}
        },
        {
          "output_type": "display_data",
          "data": {
            "text/plain": [
              "<Figure size 1500x1500 with 0 Axes>"
            ]
          },
          "metadata": {}
        },
        {
          "output_type": "display_data",
          "data": {
            "text/plain": [
              "<Figure size 1500x1500 with 0 Axes>"
            ]
          },
          "metadata": {}
        },
        {
          "output_type": "display_data",
          "data": {
            "text/plain": [
              "<Figure size 1500x1500 with 0 Axes>"
            ]
          },
          "metadata": {}
        },
        {
          "output_type": "display_data",
          "data": {
            "text/plain": [
              "<Figure size 1500x1500 with 0 Axes>"
            ]
          },
          "metadata": {}
        },
        {
          "output_type": "display_data",
          "data": {
            "text/plain": [
              "<Figure size 1500x1500 with 0 Axes>"
            ]
          },
          "metadata": {}
        },
        {
          "output_type": "display_data",
          "data": {
            "text/plain": [
              "<Figure size 1500x1500 with 0 Axes>"
            ]
          },
          "metadata": {}
        },
        {
          "output_type": "display_data",
          "data": {
            "text/plain": [
              "<Figure size 1500x1500 with 0 Axes>"
            ]
          },
          "metadata": {}
        },
        {
          "output_type": "display_data",
          "data": {
            "text/plain": [
              "<Figure size 1500x1500 with 0 Axes>"
            ]
          },
          "metadata": {}
        },
        {
          "output_type": "display_data",
          "data": {
            "text/plain": [
              "<Figure size 1500x1500 with 0 Axes>"
            ]
          },
          "metadata": {}
        },
        {
          "output_type": "display_data",
          "data": {
            "text/plain": [
              "<Figure size 1500x1500 with 0 Axes>"
            ]
          },
          "metadata": {}
        },
        {
          "output_type": "display_data",
          "data": {
            "text/plain": [
              "<Figure size 1500x1500 with 0 Axes>"
            ]
          },
          "metadata": {}
        },
        {
          "output_type": "display_data",
          "data": {
            "text/plain": [
              "<Figure size 1500x1500 with 0 Axes>"
            ]
          },
          "metadata": {}
        },
        {
          "output_type": "display_data",
          "data": {
            "text/plain": [
              "<Figure size 1500x1500 with 0 Axes>"
            ]
          },
          "metadata": {}
        }
      ]
    },
    {
      "cell_type": "code",
      "source": [
        "import os\n",
        "import glob #Đây là thư viện để tương tác với tệp tin\n",
        "\n",
        "# Đường dẫn đến thư mục chứa các tệp hình ảnh\n",
        "image_directory = '/content/drive/MyDrive/Colab Notebooks/DAN'\n",
        "\n",
        "# Sử dụng glob để lấy danh sách các tệp hình ảnh trong thư mục\n",
        "image_files = glob.glob(os.path.join(image_directory, '*.png'))\n"
      ],
      "metadata": {
        "id": "mk-hmUWaktak"
      },
      "execution_count": null,
      "outputs": []
    },
    {
      "cell_type": "code",
      "source": [
        "import cv2 #Đây là thư viện xử lý hình ảnh và video\n",
        "import numpy as np #Đây là thư viện xử lý mảng\n",
        "\n",
        "#Tạo mảng\n",
        "img_list = []\n",
        "\n",
        "#Gọi từng hình ảnh trong danh sách các tệp hình ảnh ở trên, xử lý từng hình ảnh và lưu vào trong mảng\n",
        "for img in image_files:\n",
        "  img_real = img\n",
        "  img_real = cv2.imread(img_real)\n",
        "  img_real = cv2.resize(img_real, (200, 200))\n",
        "  image_np = np.array(img_real)\n",
        "\n",
        "  img_list.append(image_np)\n",
        "\n",
        "#Lưu mảng\n",
        "images_np = np.array(img_list)\n",
        "\n",
        "#Kiểm tra kích thước mảng (Số lượng phần tử, chiều cao, chiều rộng, kênh)\n",
        "print(images_np.shape)"
      ],
      "metadata": {
        "colab": {
          "base_uri": "https://localhost:8080/"
        },
        "id": "4oL91LQ-6N1i",
        "outputId": "ef6c6f36-55bb-4643-a8dd-8d6eae9fb9f0"
      },
      "execution_count": null,
      "outputs": [
        {
          "output_type": "stream",
          "name": "stdout",
          "text": [
            "(114, 200, 200, 3)\n"
          ]
        }
      ]
    },
    {
      "cell_type": "code",
      "source": [
        "X = images_np / 255.0 #Gọi X là mảng hình ảnh được chuyển về dạng số hóa sau khi chia cho 255.0\n",
        "y = new_file['Bụi PM2.5'] #Gọi y là dữ liệu Bụi PM2.5\n",
        "\n",
        "from sklearn.model_selection import train_test_split #Đây là thư viện để chia dữ liệu thành các tập huấn luyện và tập kiểm tra\n",
        "\n",
        "#Sử dụng thư viện train_test_split để chia X và y thành tập huấn luyện và tập kiểm tra có tỷ lệ lần lượt là 80% và 20%\n",
        "X_train_cnn, X_test_cnn, y_train_cnn, y_test_cnn = train_test_split(X, y, test_size=0.2, random_state=42)\n",
        "\n",
        "#Kiểm tra tập huấn luyện và tập kiểm tra của cả X và y\n",
        "print(X_train_cnn.shape)\n",
        "print(X_test_cnn.shape)\n",
        "print(len(y_train_cnn))\n",
        "print(len(y_test_cnn))"
      ],
      "metadata": {
        "id": "PPHBTgJ671Dn",
        "colab": {
          "base_uri": "https://localhost:8080/"
        },
        "outputId": "2ce9512f-ac71-4068-f00b-b818de00921d"
      },
      "execution_count": null,
      "outputs": [
        {
          "output_type": "stream",
          "name": "stdout",
          "text": [
            "(91, 200, 200, 3)\n",
            "(23, 200, 200, 3)\n",
            "91\n",
            "23\n"
          ]
        }
      ]
    },
    {
      "cell_type": "code",
      "source": [
        "import tensorflow as tf #Đây là thư viện dành cho Deep Learning\n",
        "from tensorflow.keras.models import Sequential\n",
        "from tensorflow.keras.layers import Conv2D, MaxPooling2D, Flatten, Dense\n",
        "\n",
        "#Xây dựng mô hình CNN\n",
        "cnn_model = Sequential()\n",
        "cnn_model.add(Conv2D(32, (5, 5), activation='relu', input_shape=(200, 200, 3)))\n",
        "cnn_model.add(MaxPooling2D((2, 2)))\n",
        "cnn_model.add(Flatten())\n",
        "cnn_model.add(Dense(64, activation='relu'))\n",
        "cnn_model.add(Dense(1, activation='linear'))  # Lớp đầu ra cho chất lượng không khí\n",
        "\n",
        "cnn_model.compile(optimizer='adam', loss='mean_squared_error')\n",
        "\n",
        "#Huấn luyện mô hình\n",
        "result_cnn = cnn_model.fit(X_train_cnn, y_train_cnn, validation_data=(X_test_cnn, y_test_cnn), epochs=50, batch_size=64)\n",
        "\n",
        "#Kiểm tra kết quả\n",
        "print(result_cnn.history)"
      ],
      "metadata": {
        "id": "Bg3ldfrGn-dj",
        "colab": {
          "base_uri": "https://localhost:8080/"
        },
        "outputId": "210bfed3-b2dd-48b8-c5d4-37908a4622a3"
      },
      "execution_count": null,
      "outputs": [
        {
          "output_type": "stream",
          "name": "stdout",
          "text": [
            "Epoch 1/50\n",
            "2/2 [==============================] - 5s 2s/step - loss: 3812.8352 - val_loss: 648.4349\n",
            "Epoch 2/50\n",
            "2/2 [==============================] - 6s 2s/step - loss: 456.5388 - val_loss: 0.2224\n",
            "Epoch 3/50\n",
            "2/2 [==============================] - 4s 1s/step - loss: 0.1915 - val_loss: 0.2232\n",
            "Epoch 4/50\n",
            "2/2 [==============================] - 4s 1s/step - loss: 0.1921 - val_loss: 0.2238\n",
            "Epoch 5/50\n",
            "2/2 [==============================] - 5s 3s/step - loss: 0.1927 - val_loss: 0.2242\n",
            "Epoch 6/50\n",
            "2/2 [==============================] - 4s 1s/step - loss: 0.1931 - val_loss: 0.2246\n",
            "Epoch 7/50\n",
            "2/2 [==============================] - 4s 1s/step - loss: 0.1934 - val_loss: 0.2248\n",
            "Epoch 8/50\n",
            "2/2 [==============================] - 4s 2s/step - loss: 0.1936 - val_loss: 0.2251\n",
            "Epoch 9/50\n",
            "2/2 [==============================] - 5s 1s/step - loss: 0.1938 - val_loss: 0.2252\n",
            "Epoch 10/50\n",
            "2/2 [==============================] - 4s 1s/step - loss: 0.3891 - val_loss: 0.2254\n",
            "Epoch 11/50\n",
            "2/2 [==============================] - 4s 1s/step - loss: 0.1941 - val_loss: 0.2255\n",
            "Epoch 12/50\n",
            "2/2 [==============================] - 6s 3s/step - loss: 0.1942 - val_loss: 0.2256\n",
            "Epoch 13/50\n",
            "2/2 [==============================] - 4s 1s/step - loss: 0.1943 - val_loss: 0.2257\n",
            "Epoch 14/50\n",
            "2/2 [==============================] - 4s 1s/step - loss: 0.1944 - val_loss: 0.2257\n",
            "Epoch 15/50\n",
            "2/2 [==============================] - 5s 2s/step - loss: 0.1944 - val_loss: 0.2258\n",
            "Epoch 16/50\n",
            "2/2 [==============================] - 5s 1s/step - loss: 0.1945 - val_loss: 0.2258\n",
            "Epoch 17/50\n",
            "2/2 [==============================] - 4s 1s/step - loss: 0.1945 - val_loss: 0.2258\n",
            "Epoch 18/50\n",
            "2/2 [==============================] - 4s 1s/step - loss: 0.1945 - val_loss: 0.2258\n",
            "Epoch 19/50\n",
            "2/2 [==============================] - 6s 2s/step - loss: 0.1945 - val_loss: 0.2258\n",
            "Epoch 20/50\n",
            "2/2 [==============================] - 4s 1s/step - loss: 0.1945 - val_loss: 0.2258\n",
            "Epoch 21/50\n",
            "2/2 [==============================] - 4s 1s/step - loss: 0.1945 - val_loss: 0.2258\n",
            "Epoch 22/50\n",
            "2/2 [==============================] - 5s 2s/step - loss: 0.1945 - val_loss: 0.2258\n",
            "Epoch 23/50\n",
            "2/2 [==============================] - 5s 1s/step - loss: 0.1945 - val_loss: 0.2257\n",
            "Epoch 24/50\n",
            "2/2 [==============================] - 4s 1s/step - loss: 0.1944 - val_loss: 0.2257\n",
            "Epoch 25/50\n",
            "2/2 [==============================] - 4s 2s/step - loss: 0.1944 - val_loss: 0.2257\n",
            "Epoch 26/50\n",
            "2/2 [==============================] - 5s 1s/step - loss: 0.1944 - val_loss: 0.2257\n",
            "Epoch 27/50\n",
            "2/2 [==============================] - 4s 1s/step - loss: 0.1944 - val_loss: 0.2256\n",
            "Epoch 28/50\n",
            "2/2 [==============================] - 4s 1s/step - loss: 0.1943 - val_loss: 0.2256\n",
            "Epoch 29/50\n",
            "2/2 [==============================] - 6s 3s/step - loss: 0.1943 - val_loss: 0.2255\n",
            "Epoch 30/50\n",
            "2/2 [==============================] - 4s 1s/step - loss: 0.1942 - val_loss: 0.2255\n",
            "Epoch 31/50\n",
            "2/2 [==============================] - 4s 1s/step - loss: 0.1942 - val_loss: 0.2255\n",
            "Epoch 32/50\n",
            "2/2 [==============================] - 5s 2s/step - loss: 0.1942 - val_loss: 0.2254\n",
            "Epoch 33/50\n",
            "2/2 [==============================] - 5s 1s/step - loss: 0.1941 - val_loss: 0.2254\n",
            "Epoch 34/50\n",
            "2/2 [==============================] - 4s 1s/step - loss: 0.1941 - val_loss: 0.2253\n",
            "Epoch 35/50\n",
            "2/2 [==============================] - 4s 1s/step - loss: 0.1940 - val_loss: 0.2253\n",
            "Epoch 36/50\n",
            "2/2 [==============================] - 6s 2s/step - loss: 0.1940 - val_loss: 0.2252\n",
            "Epoch 37/50\n",
            "2/2 [==============================] - 4s 1s/step - loss: 0.1939 - val_loss: 0.2252\n",
            "Epoch 38/50\n",
            "2/2 [==============================] - 4s 1s/step - loss: 0.1939 - val_loss: 0.2251\n",
            "Epoch 39/50\n",
            "2/2 [==============================] - 5s 3s/step - loss: 0.1938 - val_loss: 0.2251\n",
            "Epoch 40/50\n",
            "2/2 [==============================] - 4s 1s/step - loss: 0.1938 - val_loss: 0.2250\n",
            "Epoch 41/50\n",
            "2/2 [==============================] - 4s 1s/step - loss: 0.1938 - val_loss: 0.2250\n",
            "Epoch 42/50\n",
            "2/2 [==============================] - 4s 2s/step - loss: 0.1937 - val_loss: 0.2249\n",
            "Epoch 43/50\n",
            "2/2 [==============================] - 6s 1s/step - loss: 0.1936 - val_loss: 0.2248\n",
            "Epoch 44/50\n",
            "2/2 [==============================] - 4s 1s/step - loss: 0.1936 - val_loss: 0.2248\n",
            "Epoch 45/50\n",
            "2/2 [==============================] - 4s 1s/step - loss: 0.1935 - val_loss: 0.2247\n",
            "Epoch 46/50\n",
            "2/2 [==============================] - 6s 3s/step - loss: 0.1935 - val_loss: 0.2247\n",
            "Epoch 47/50\n",
            "2/2 [==============================] - 4s 1s/step - loss: 0.1934 - val_loss: 0.2246\n",
            "Epoch 48/50\n",
            "2/2 [==============================] - 4s 1s/step - loss: 0.1934 - val_loss: 0.2246\n",
            "Epoch 49/50\n",
            "2/2 [==============================] - 5s 2s/step - loss: 0.1933 - val_loss: 0.2245\n",
            "Epoch 50/50\n",
            "2/2 [==============================] - 5s 1s/step - loss: 0.1933 - val_loss: 0.2244\n",
            "{'loss': [3812.835205078125, 456.53875732421875, 0.19145454466342926, 0.19213376939296722, 0.1926591545343399, 0.19307264685630798, 0.19336947798728943, 0.19362857937812805, 0.19383279979228973, 0.3890942633152008, 0.19412776827812195, 0.19424062967300415, 0.1943231076002121, 0.1943899542093277, 0.19443851709365845, 0.19447243213653564, 0.19449451565742493, 0.19450637698173523, 0.1945098638534546, 0.19450627267360687, 0.19449657201766968, 0.1944815218448639, 0.19446253776550293, 0.19443945586681366, 0.19441337883472443, 0.1943841278553009, 0.1943519562482834, 0.1943189799785614, 0.19428279995918274, 0.19424493610858917, 0.19420582056045532, 0.19416525959968567, 0.19412262737751007, 0.19407926499843597, 0.19403502345085144, 0.1939893513917923, 0.19394318759441376, 0.1938955932855606, 0.1938483715057373, 0.1937992125749588, 0.19375072419643402, 0.1937006264925003, 0.19364897906780243, 0.19359907507896423, 0.19354604184627533, 0.19349361956119537, 0.19344021379947662, 0.19338534772396088, 0.1933305561542511, 0.193277046084404], 'val_loss': [648.4349365234375, 0.22241932153701782, 0.2231801450252533, 0.22375446557998657, 0.22420179843902588, 0.22455576062202454, 0.22483821213245392, 0.22506432235240936, 0.22524498403072357, 0.2253936231136322, 0.2255154550075531, 0.22561068832874298, 0.2256835401058197, 0.22573800384998322, 0.2257767617702484, 0.2258022576570511, 0.22581662237644196, 0.22582155466079712, 0.22581863403320312, 0.2258090078830719, 0.22579389810562134, 0.2257739156484604, 0.22574947774410248, 0.22572144865989685, 0.22569042444229126, 0.22565694153308868, 0.22562117874622345, 0.22558312118053436, 0.22554321587085724, 0.2255013883113861, 0.22545768320560455, 0.22541232407093048, 0.22536557912826538, 0.22531747817993164, 0.22526827454566956, 0.22521831095218658, 0.22516769170761108, 0.22511646151542664, 0.2250645011663437, 0.225011944770813, 0.22495852410793304, 0.22490443289279938, 0.22484943270683289, 0.2247932255268097, 0.22473637759685516, 0.2246786653995514, 0.22462032735347748, 0.2245614379644394, 0.2245018184185028, 0.22444157302379608]}\n"
          ]
        }
      ]
    },
    {
      "cell_type": "code",
      "source": [
        "import matplotlib.pyplot as plt\n",
        "\n",
        "# Lấy thông tin về giá trị mất mát trên tập huấn luyện và tập kiểm tra\n",
        "train_loss_cnn = result_cnn.history['loss']\n",
        "val_loss_cnn = result_cnn.history['val_loss']\n",
        "\n",
        "# Vẽ biểu đồ giá trị mất mát\n",
        "plt.figure(figsize=(10, 6))\n",
        "plt.plot(train_loss_cnn, label='Mất mát trên tập huấn luyện')\n",
        "plt.plot(val_loss_cnn, label='Mất mát trên tập kiểm tra')\n",
        "plt.xlabel('Epochs')\n",
        "plt.ylabel('Giá trị mất mát')\n",
        "plt.legend()\n",
        "plt.title('Biểu đồ giá trị mất mát trên tập huấn luyện và tập kiểm tra')\n",
        "plt.show()"
      ],
      "metadata": {
        "colab": {
          "base_uri": "https://localhost:8080/",
          "height": 566
        },
        "id": "g_jzx-9NEbgo",
        "outputId": "18ea3b95-e136-4800-adc9-f7ebc5c9d74b"
      },
      "execution_count": null,
      "outputs": [
        {
          "output_type": "display_data",
          "data": {
            "text/plain": [
              "<Figure size 1000x600 with 1 Axes>"
            ],
            "image/png": "[encoded data removed]"
          },
          "metadata": {}
        }
      ]
    },
    {
      "cell_type": "code",
      "source": [
        "import matplotlib.pyplot as plt\n",
        "\n",
        "plt.figure(figsize=(12, 6))\n",
        "plt.plot(new_file1['Thời gian cập nhật'], new_file1['Bụi PM2.5'], linestyle='-', color='b')\n",
        "plt.xlabel('Ngày cập nhật')\n",
        "plt.ylabel('Bụi PM2.5')\n",
        "plt.title('Bụi PM2.5 qua các thời gian cập nhật')\n",
        "\n",
        "plt.savefig('Bụi PM25')\n",
        "plt.show()"
      ],
      "metadata": {
        "colab": {
          "base_uri": "https://localhost:8080/",
          "height": 574
        },
        "id": "x49zMSDMJ314",
        "outputId": "104cb7bd-3da6-4a1b-a036-13aa995c6a6c"
      },
      "execution_count": null,
      "outputs": [
        {
          "output_type": "display_data",
          "data": {
            "text/plain": [
              "<Figure size 1200x600 with 1 Axes>"
            ],
            "image/png": "[encoded data removed]"
          },
          "metadata": {}
        }
      ]
    },
    {
      "cell_type": "code",
      "source": [
        "new_image = cv2.imread('/content/drive/MyDrive/Colab Notebooks/DAN/Bụi PM2.5/Bụi PM25.png')\n",
        "new_image = cv2.resize(new_image, (200, 200))\n",
        "new_data = np.array(new_image)\n",
        "new_data = new_data / 255.0\n",
        "new_data = np.expand_dims(new_data, axis=0)\n",
        "\n",
        "prediction_cnn = cnn_model.predict(new_data)\n",
        "\n",
        "print(prediction_cnn)"
      ],
      "metadata": {
        "colab": {
          "base_uri": "https://localhost:8080/"
        },
        "id": "2g6vWnenPKm0",
        "outputId": "8875c5bb-9633-4632-e4a2-e8eeea8ef499"
      },
      "execution_count": null,
      "outputs": [
        {
          "output_type": "stream",
          "name": "stdout",
          "text": [
            "1/1 [==============================] - 0s 94ms/step\n",
            "[[0.39632374]]\n"
          ]
        }
      ]
    },
    {
      "cell_type": "code",
      "source": [
        "unscaled_prediction_cnn = prediction_cnn * (new_file1['Bụi PM2.5'].max() - new_file1['Bụi PM2.5'].min()) + new_file1['Bụi PM2.5'].min()\n",
        "print(unscaled_prediction_cnn)"
      ],
      "metadata": {
        "colab": {
          "base_uri": "https://localhost:8080/"
        },
        "id": "4XqiB8m3SJ5r",
        "outputId": "0d64a09d-add6-4e9b-cb3d-028183f3cae9"
      },
      "execution_count": null,
      "outputs": [
        {
          "output_type": "stream",
          "name": "stdout",
          "text": [
            "[[67.25959]]\n"
          ]
        }
      ]
    },
    {
      "cell_type": "code",
      "source": [
        "import pandas as pd\n",
        "import matplotlib.pyplot as plt\n",
        "import numpy as np\n",
        "\n",
        "# (Ở đây, bạn cần thay đổi phần này để tạo dãy thời gian cho các thời điểm bạn muốn dự đoán)\n",
        "predicted_dates = pd.date_range(start='2021-11-30', periods=1, freq='3D')\n",
        "\n",
        "# Vẽ biểu đồ dự đoán\n",
        "plt.figure(figsize=(12, 6))\n",
        "plt.plot(new_file1['Thời gian cập nhật'], new_file1['Bụi PM2.5'], linestyle='-', color='b', label='Dữ liệu thực tế')\n",
        "plt.plot(predicted_dates, unscaled_prediction_cnn, marker='o', linestyle='-', color='r', label='Dự đoán Bụi PM2.5')\n",
        "plt.title('Biểu đồ Dự đoán Bụi PM2.5 qua thời gian')\n",
        "plt.xlabel('Thời gian')\n",
        "plt.ylabel('Nồng độ Bụi PM2.5')\n",
        "plt.grid(True)\n",
        "plt.legend()\n",
        "\n",
        "# Hiển thị biểu đồ\n",
        "plt.show()\n"
      ],
      "metadata": {
        "colab": {
          "base_uri": "https://localhost:8080/",
          "height": 575
        },
        "id": "Ldsx0UyvQeqP",
        "outputId": "4adb632e-f48b-48b9-b134-4281f92d8081"
      },
      "execution_count": null,
      "outputs": [
        {
          "output_type": "display_data",
          "data": {
            "text/plain": [
              "<Figure size 1200x600 with 1 Axes>"
            ],
            "image/png": "[encoded data removed]"
          },
          "metadata": {}
        }
      ]
    },
    {
      "cell_type": "code",
      "source": [
        "import tensorflow as tf\n",
        "from tensorflow import keras\n",
        "from sklearn.model_selection import train_test_split\n",
        "\n",
        "new_file['Thời gian cập nhật'] = pd.to_datetime(new_file['Thời gian cập nhật'])\n",
        "new_file['Thời gian cập nhật'] = new_file['Thời gian cập nhật'].astype(int) / 10**9\n",
        "\n",
        "# Chuẩn bị dữ liệu và chia thành tập huấn luyện và tập kiểm tra\n",
        "target_column = 'Bụi PM2.5'\n",
        "X = new_file.drop(columns=[target_column]).values\n",
        "y = new_file[target_column].values\n",
        "\n",
        "X_train_lstm, X_test_lstm, y_train_lstm, y_test_lstm = train_test_split(X, y, test_size=0.2, random_state=42)\n",
        "\n",
        "X_train_lstm = X_train_lstm.astype('float32')\n",
        "X_test_lstm = X_test_lstm.astype('float32')\n",
        "y_train_lstm = y_train_lstm.astype('float32')\n",
        "y_test_lstm = y_test_lstm.astype('float32')\n",
        "\n",
        "# Xây dựng mô hình LSTM\n",
        "lstm_model = keras.Sequential()\n",
        "lstm_model.add(keras.layers.LSTM(10, activation='relu', input_shape=(X_train_lstm.shape[1], 1)))\n",
        "lstm_model.add(keras.layers.Dense(1))\n",
        "lstm_model.compile(optimizer='adam', loss='mean_squared_error')\n",
        "\n",
        "# Huấn luyện mô hình\n",
        "result_lstm = lstm_model.fit(X_train_lstm, y_train_lstm, epochs=50, batch_size=32)\n",
        "\n",
        "print(result_lstm.history)"
      ],
      "metadata": {
        "colab": {
          "base_uri": "https://localhost:8080/"
        },
        "id": "ZPvVxOUBef5S",
        "outputId": "c67c2800-9c01-4579-d621-d3acd951aa4f"
      },
      "execution_count": null,
      "outputs": [
        {
          "output_type": "stream",
          "name": "stdout",
          "text": [
            "Epoch 1/50\n",
            "3/3 [==============================] - 1s 7ms/step - loss: 0.1897\n",
            "Epoch 2/50\n",
            "3/3 [==============================] - 0s 6ms/step - loss: 0.1874\n",
            "Epoch 3/50\n",
            "3/3 [==============================] - 0s 6ms/step - loss: 0.1851\n",
            "Epoch 4/50\n",
            "3/3 [==============================] - 0s 6ms/step - loss: 0.1828\n",
            "Epoch 5/50\n",
            "3/3 [==============================] - 0s 7ms/step - loss: 0.1805\n",
            "Epoch 6/50\n",
            "3/3 [==============================] - 0s 7ms/step - loss: 0.1782\n",
            "Epoch 7/50\n",
            "3/3 [==============================] - 0s 7ms/step - loss: 0.1760\n",
            "Epoch 8/50\n",
            "3/3 [==============================] - 0s 7ms/step - loss: 0.1738\n",
            "Epoch 9/50\n",
            "3/3 [==============================] - 0s 7ms/step - loss: 0.1716\n",
            "Epoch 10/50\n",
            "3/3 [==============================] - 0s 7ms/step - loss: 0.1694\n",
            "Epoch 11/50\n",
            "3/3 [==============================] - 0s 6ms/step - loss: 0.1674\n",
            "Epoch 12/50\n",
            "3/3 [==============================] - 0s 6ms/step - loss: 0.1652\n",
            "Epoch 13/50\n",
            "3/3 [==============================] - 0s 7ms/step - loss: 0.1631\n",
            "Epoch 14/50\n",
            "3/3 [==============================] - 0s 6ms/step - loss: 0.1610\n",
            "Epoch 15/50\n",
            "3/3 [==============================] - 0s 6ms/step - loss: 0.1590\n",
            "Epoch 16/50\n",
            "3/3 [==============================] - 0s 6ms/step - loss: 0.1570\n",
            "Epoch 17/50\n",
            "3/3 [==============================] - 0s 8ms/step - loss: 0.1550\n",
            "Epoch 18/50\n",
            "3/3 [==============================] - 0s 6ms/step - loss: 0.1530\n",
            "Epoch 19/50\n",
            "3/3 [==============================] - 0s 6ms/step - loss: 0.1511\n",
            "Epoch 20/50\n",
            "3/3 [==============================] - 0s 7ms/step - loss: 0.1491\n",
            "Epoch 21/50\n",
            "3/3 [==============================] - 0s 7ms/step - loss: 0.1473\n",
            "Epoch 22/50\n",
            "3/3 [==============================] - 0s 7ms/step - loss: 0.1453\n",
            "Epoch 23/50\n",
            "3/3 [==============================] - 0s 11ms/step - loss: 0.1435\n",
            "Epoch 24/50\n",
            "3/3 [==============================] - 0s 7ms/step - loss: 0.1417\n",
            "Epoch 25/50\n",
            "3/3 [==============================] - 0s 7ms/step - loss: 0.1398\n",
            "Epoch 26/50\n",
            "3/3 [==============================] - 0s 7ms/step - loss: 0.1381\n",
            "Epoch 27/50\n",
            "3/3 [==============================] - 0s 6ms/step - loss: 0.1363\n",
            "Epoch 28/50\n",
            "3/3 [==============================] - 0s 6ms/step - loss: 0.1346\n",
            "Epoch 29/50\n",
            "3/3 [==============================] - 0s 8ms/step - loss: 0.1329\n",
            "Epoch 30/50\n",
            "3/3 [==============================] - 0s 9ms/step - loss: 0.1312\n",
            "Epoch 31/50\n",
            "3/3 [==============================] - 0s 6ms/step - loss: 0.1295\n",
            "Epoch 32/50\n",
            "3/3 [==============================] - 0s 7ms/step - loss: 0.1278\n",
            "Epoch 33/50\n",
            "3/3 [==============================] - 0s 6ms/step - loss: 0.1262\n",
            "Epoch 34/50\n",
            "3/3 [==============================] - 0s 6ms/step - loss: 0.1247\n",
            "Epoch 35/50\n",
            "3/3 [==============================] - 0s 7ms/step - loss: 0.1231\n",
            "Epoch 36/50\n",
            "3/3 [==============================] - 0s 9ms/step - loss: 0.1215\n",
            "Epoch 37/50\n",
            "3/3 [==============================] - 0s 6ms/step - loss: 0.1200\n",
            "Epoch 38/50\n",
            "3/3 [==============================] - 0s 6ms/step - loss: 0.1184\n",
            "Epoch 39/50\n",
            "3/3 [==============================] - 0s 7ms/step - loss: 0.1170\n",
            "Epoch 40/50\n",
            "3/3 [==============================] - 0s 6ms/step - loss: 0.1155\n",
            "Epoch 41/50\n",
            "3/3 [==============================] - 0s 7ms/step - loss: 0.1140\n",
            "Epoch 42/50\n",
            "3/3 [==============================] - 0s 9ms/step - loss: 0.1126\n",
            "Epoch 43/50\n",
            "3/3 [==============================] - 0s 9ms/step - loss: 0.1111\n",
            "Epoch 44/50\n",
            "3/3 [==============================] - 0s 10ms/step - loss: 0.1098\n",
            "Epoch 45/50\n",
            "3/3 [==============================] - 0s 11ms/step - loss: 0.1084\n",
            "Epoch 46/50\n",
            "3/3 [==============================] - 0s 8ms/step - loss: 0.1071\n",
            "Epoch 47/50\n",
            "3/3 [==============================] - 0s 8ms/step - loss: 0.1057\n",
            "Epoch 48/50\n",
            "3/3 [==============================] - 0s 9ms/step - loss: 0.1044\n",
            "Epoch 49/50\n",
            "3/3 [==============================] - 0s 8ms/step - loss: 0.1031\n",
            "Epoch 50/50\n",
            "3/3 [==============================] - 0s 9ms/step - loss: 0.1018\n",
            "{'loss': [0.18974509835243225, 0.18744869530200958, 0.18509219586849213, 0.1828252077102661, 0.18054503202438354, 0.17823287844657898, 0.17603008449077606, 0.1738061010837555, 0.17163754999637604, 0.16943876445293427, 0.1673601120710373, 0.1651924103498459, 0.16307684779167175, 0.16100968420505524, 0.15900464355945587, 0.15695543587207794, 0.15496201813220978, 0.15300332009792328, 0.1510828286409378, 0.14907629787921906, 0.14725269377231598, 0.1453477144241333, 0.14349578320980072, 0.14167694747447968, 0.1398283988237381, 0.13812404870986938, 0.1363171637058258, 0.13457117974758148, 0.13290242850780487, 0.13115479052066803, 0.12951165437698364, 0.127832293510437, 0.12621356546878815, 0.12467291951179504, 0.12305347621440887, 0.12150462716817856, 0.1199503242969513, 0.11842931061983109, 0.11697237938642502, 0.11550026386976242, 0.11400441825389862, 0.11259378492832184, 0.11114449799060822, 0.10977160185575485, 0.10840199142694473, 0.10706881433725357, 0.10574845224618912, 0.10435063391923904, 0.10314778238534927, 0.10184349119663239]}\n"
          ]
        }
      ]
    },
    {
      "cell_type": "code",
      "source": [
        "import matplotlib.pyplot as plt\n",
        "\n",
        "# Lấy thông tin về giá trị mất mát trên tập huấn luyện và tập kiểm tra\n",
        "train_loss_lstm = result_lstm.history['loss']\n",
        "\n",
        "# Vẽ biểu đồ giá trị mất mát\n",
        "plt.figure(figsize=(8, 6))\n",
        "plt.plot(train_loss_lstm, label='Mất mát trên tập huấn luyện')\n",
        "plt.xlabel('Epochs')\n",
        "plt.ylabel('Giá trị mất mát')\n",
        "plt.legend()\n",
        "plt.title('Biểu đồ giá trị mất mát trên tập huấn luyện')\n",
        "plt.show()"
      ],
      "metadata": {
        "colab": {
          "base_uri": "https://localhost:8080/",
          "height": 566
        },
        "id": "vRSMq6VZkpu_",
        "outputId": "7892aa39-2b80-4d7c-a79c-fc08e70a0ef1"
      },
      "execution_count": null,
      "outputs": [
        {
          "output_type": "display_data",
          "data": {
            "text/plain": [
              "<Figure size 800x600 with 1 Axes>"
            ],
            "image/png": "[encoded data removed]"
          },
          "metadata": {}
        }
      ]
    },
    {
      "cell_type": "code",
      "source": [
        "# Dự đoán\n",
        "prediction_lstm = lstm_model.predict(X_test_lstm)\n",
        "print(prediction_lstm)"
      ],
      "metadata": {
        "colab": {
          "base_uri": "https://localhost:8080/"
        },
        "id": "3s3r4OeHkVRu",
        "outputId": "29db3a5f-8b64-417e-f7ce-45d3b70183c4"
      },
      "execution_count": null,
      "outputs": [
        {
          "output_type": "stream",
          "name": "stdout",
          "text": [
            "1/1 [==============================] - 0s 212ms/step\n",
            "[[0.13752139]\n",
            " [0.13752139]\n",
            " [0.13752139]\n",
            " [0.13752139]\n",
            " [0.13752139]\n",
            " [0.13752139]\n",
            " [0.13752139]\n",
            " [0.13752139]\n",
            " [0.13752139]\n",
            " [0.13752139]\n",
            " [0.13752139]\n",
            " [0.13752139]\n",
            " [0.13752139]\n",
            " [0.13752139]\n",
            " [0.13752139]\n",
            " [0.13752139]\n",
            " [0.13752139]\n",
            " [0.13752139]\n",
            " [0.13752139]\n",
            " [0.13752139]\n",
            " [0.13752139]\n",
            " [0.13752139]\n",
            " [0.13752139]]\n"
          ]
        }
      ]
    },
    {
      "cell_type": "code",
      "source": [
        "import pandas as pd\n",
        "import matplotlib.pyplot as plt\n",
        "import numpy as np\n",
        "\n",
        "unscaled_prediction_lstm = prediction_lstm * (new_file1['Bụi PM2.5'].max() - new_file1['Bụi PM2.5'].min()) + new_file1['Bụi PM2.5'].min()\n",
        "predicted_value = unscaled_prediction_lstm.mean()\n",
        "\n",
        "predicted_dates = pd.date_range(start='2021-11-30', periods=1, freq='3D')\n",
        "\n",
        "# Vẽ biểu đồ dự đoán\n",
        "plt.figure(figsize=(12, 6))\n",
        "plt.plot(new_file1['Thời gian cập nhật'], new_file1['Bụi PM2.5'], linestyle='-', color='b', label='Dữ liệu thực tế')\n",
        "plt.plot(predicted_dates, predicted_value, marker='o', linestyle='-', color='r', label='Dự đoán Bụi PM2.5')\n",
        "plt.title('Biểu đồ Dự đoán Bụi PM2.5 qua thời gian')\n",
        "plt.xlabel('Thời gian')\n",
        "plt.ylabel('Nồng độ Bụi PM2.5')\n",
        "plt.grid(True)\n",
        "plt.legend()\n",
        "\n",
        "# Hiển thị biểu đồ\n",
        "plt.show()"
      ],
      "metadata": {
        "colab": {
          "base_uri": "https://localhost:8080/",
          "height": 567
        },
        "id": "uOoCMRlTlmJ2",
        "outputId": "8769fff6-92a8-4a2d-e8f8-ff618875968c"
      },
      "execution_count": null,
      "outputs": [
        {
          "output_type": "display_data",
          "data": {
            "text/plain": [
              "<Figure size 1200x600 with 1 Axes>"
            ],
            "image/png": "[encoded data removed]"
          },
          "metadata": {}
        }
      ]
    },
    {
      "cell_type": "code",
      "source": [
        "import numpy as np\n",
        "import pandas as pd\n",
        "from tensorflow import keras\n",
        "from sklearn.metrics import mean_absolute_error, mean_squared_error\n",
        "\n",
        "predicted_values_cnn = cnn_model.predict(X_test_cnn)\n",
        "predicted_values_lstm = lstm_model.predict(X_test_lstm)\n",
        "\n",
        "mae_cnn = mean_absolute_error(y_test_cnn, predicted_values_cnn).round(3)\n",
        "mae_lstm = mean_absolute_error(y_test_lstm, predicted_values_lstm).round(3)\n",
        "\n",
        "mse_cnn = mean_squared_error(y_test_cnn, predicted_values_cnn).round(3)\n",
        "mse_lstm = mean_squared_error(y_test_lstm, predicted_values_lstm).round(3)\n",
        "\n",
        "rmse_cnn = np.sqrt(mse_cnn).round(3)\n",
        "rmse_lstm = np.sqrt(mse_lstm).round(3)\n",
        "\n",
        "mape_cnn = (mae_cnn / np.mean(np.abs(y_test_cnn))).round(3)\n",
        "mape_lstm = (mae_lstm / np.mean(np.abs(y_test_lstm))).round(3)\n",
        "\n",
        "data = {\n",
        "    'Model': ['CNN', 'LSTM'],\n",
        "    'MAE': [mae_cnn, mae_lstm],\n",
        "    'MSE': [mse_cnn, mse_lstm],\n",
        "    'RMSE': [rmse_cnn, rmse_lstm],\n",
        "    'MAPE': [mape_cnn, mape_lstm]\n",
        "}\n",
        "\n",
        "comparison_df = pd.DataFrame(data)\n",
        "\n",
        "print(comparison_df)"
      ],
      "metadata": {
        "colab": {
          "base_uri": "https://localhost:8080/"
        },
        "id": "-WY0wxwvONVk",
        "outputId": "d17449c5-1538-4f27-bad6-ccb8e3435fd9"
      },
      "execution_count": null,
      "outputs": [
        {
          "output_type": "stream",
          "name": "stdout",
          "text": [
            "1/1 [==============================] - 1s 519ms/step\n",
            "1/1 [==============================] - 0s 24ms/step\n",
            "  Model    MAE    MSE   RMSE   MAPE\n",
            "0   CNN  0.428  0.224  0.473  1.007\n",
            "1  LSTM  0.290  0.124  0.352  0.683\n"
          ]
        }
      ]
    }
  ]
}